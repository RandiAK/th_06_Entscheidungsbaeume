{
 "cells": [
  {
   "cell_type": "markdown",
   "metadata": {},
   "source": [
    "# Entscheidungsbäume mit R"
   ]
  },
  {
   "cell_type": "markdown",
   "metadata": {},
   "source": [
    "Als [Beispieldatensatz](https://www.youtube.com/watch?v=diPvHSeizkg)\n",
    "verwenden wir den Datensatz Kyphosis des rpart-Paketes. Der Datensatz [Kyphosis](https://de.wikipedia.org/wiki/Kyphose)  beschreibt Eingriffe bei der Wirbelsäulenverkrümmung bei Kindern. Kyphosis bezeichnet eine nach dorsal konvexe Krümmung der Wirbelsäule. Unter der Verkrümmung leiden alle Kinder. Der Datensatz beschriebt auch das $Vorhandensein$ (2=present), $nicht$ $Vorhandensein$ (1=absent) nach einer Operation. \n",
    "\n",
    "    Age  --> gibt das Alter in Monaten an\n",
    "\n",
    "    Number --> gibt die Anzahl der betroffenen Wirbeln an\n",
    "\n",
    "    Start --> der Wirbel, mit dem der Eingriff begonnen wurde\n"
   ]
  },
  {
   "cell_type": "markdown",
   "metadata": {},
   "source": [
    "Als erstes lesen wir die Bibliothek $rpart$ ein und den in R vorhandenen Datensatz Kyphosis."
   ]
  },
  {
   "cell_type": "code",
   "execution_count": 1,
   "metadata": {},
   "outputs": [
    {
     "name": "stdout",
     "output_type": "stream",
     "text": [
      "'data.frame':\t81 obs. of  4 variables:\n",
      " $ Kyphosis: Factor w/ 2 levels \"absent\",\"present\": 1 1 2 1 1 1 1 1 1 2 ...\n",
      " $ Age     : int  71 158 128 2 1 1 61 37 113 59 ...\n",
      " $ Number  : int  3 3 4 5 4 2 2 3 2 6 ...\n",
      " $ Start   : int  5 14 5 1 15 16 17 16 16 12 ...\n"
     ]
    }
   ],
   "source": [
    "library(rpart)\n",
    "data(kyphosis)\n",
    "str(kyphosis) # Struktur anzeigen lassen"
   ]
  },
  {
   "cell_type": "markdown",
   "metadata": {},
   "source": [
    "Der Datensatz besteht aus 81 Datensätzen mit jeweils 4 Variablen. Unsere Variablen $Age$, $Number$ und $Start$ sind vom Typ $integer$. 'Kyphosis' wird, wie bereits beschrieben, in Vorhandensein (present) und nicht Vorhandensein (absent) unterteilt.\n",
    "- $present$ wird $2$ zugeordnet und $absent$ wird die $1$ zugeordnet.\n"
   ]
  },
  {
   "cell_type": "markdown",
   "metadata": {},
   "source": [
    "Wir lassen uns die ersten 15 Datensätze anzeigen."
   ]
  },
  {
   "cell_type": "code",
   "execution_count": 3,
   "metadata": {},
   "outputs": [
    {
     "data": {
      "text/html": [
       "<table>\n",
       "<thead><tr><th scope=col>Kyphosis</th><th scope=col>Age</th><th scope=col>Number</th><th scope=col>Start</th></tr></thead>\n",
       "<tbody>\n",
       "\t<tr><td>absent </td><td> 71    </td><td>3      </td><td> 5     </td></tr>\n",
       "\t<tr><td>absent </td><td>158    </td><td>3      </td><td>14     </td></tr>\n",
       "\t<tr><td>present</td><td>128    </td><td>4      </td><td> 5     </td></tr>\n",
       "\t<tr><td>absent </td><td>  2    </td><td>5      </td><td> 1     </td></tr>\n",
       "\t<tr><td>absent </td><td>  1    </td><td>4      </td><td>15     </td></tr>\n",
       "\t<tr><td>absent </td><td>  1    </td><td>2      </td><td>16     </td></tr>\n",
       "\t<tr><td>absent </td><td> 61    </td><td>2      </td><td>17     </td></tr>\n",
       "\t<tr><td>absent </td><td> 37    </td><td>3      </td><td>16     </td></tr>\n",
       "\t<tr><td>absent </td><td>113    </td><td>2      </td><td>16     </td></tr>\n",
       "\t<tr><td>present</td><td> 59    </td><td>6      </td><td>12     </td></tr>\n",
       "\t<tr><td>present</td><td> 82    </td><td>5      </td><td>14     </td></tr>\n",
       "\t<tr><td>absent </td><td>148    </td><td>3      </td><td>16     </td></tr>\n",
       "\t<tr><td>absent </td><td> 18    </td><td>5      </td><td> 2     </td></tr>\n",
       "\t<tr><td>absent </td><td>  1    </td><td>4      </td><td>12     </td></tr>\n",
       "\t<tr><td>absent </td><td>168    </td><td>3      </td><td>18     </td></tr>\n",
       "</tbody>\n",
       "</table>\n"
      ],
      "text/latex": [
       "\\begin{tabular}{r|llll}\n",
       " Kyphosis & Age & Number & Start\\\\\n",
       "\\hline\n",
       "\t absent  &  71     & 3       &  5     \\\\\n",
       "\t absent  & 158     & 3       & 14     \\\\\n",
       "\t present & 128     & 4       &  5     \\\\\n",
       "\t absent  &   2     & 5       &  1     \\\\\n",
       "\t absent  &   1     & 4       & 15     \\\\\n",
       "\t absent  &   1     & 2       & 16     \\\\\n",
       "\t absent  &  61     & 2       & 17     \\\\\n",
       "\t absent  &  37     & 3       & 16     \\\\\n",
       "\t absent  & 113     & 2       & 16     \\\\\n",
       "\t present &  59     & 6       & 12     \\\\\n",
       "\t present &  82     & 5       & 14     \\\\\n",
       "\t absent  & 148     & 3       & 16     \\\\\n",
       "\t absent  &  18     & 5       &  2     \\\\\n",
       "\t absent  &   1     & 4       & 12     \\\\\n",
       "\t absent  & 168     & 3       & 18     \\\\\n",
       "\\end{tabular}\n"
      ],
      "text/markdown": [
       "\n",
       "Kyphosis | Age | Number | Start | \n",
       "|---|---|---|---|---|---|---|---|---|---|---|---|---|---|---|\n",
       "| absent  |  71     | 3       |  5      | \n",
       "| absent  | 158     | 3       | 14      | \n",
       "| present | 128     | 4       |  5      | \n",
       "| absent  |   2     | 5       |  1      | \n",
       "| absent  |   1     | 4       | 15      | \n",
       "| absent  |   1     | 2       | 16      | \n",
       "| absent  |  61     | 2       | 17      | \n",
       "| absent  |  37     | 3       | 16      | \n",
       "| absent  | 113     | 2       | 16      | \n",
       "| present |  59     | 6       | 12      | \n",
       "| present |  82     | 5       | 14      | \n",
       "| absent  | 148     | 3       | 16      | \n",
       "| absent  |  18     | 5       |  2      | \n",
       "| absent  |   1     | 4       | 12      | \n",
       "| absent  | 168     | 3       | 18      | \n",
       "\n",
       "\n"
      ],
      "text/plain": [
       "   Kyphosis Age Number Start\n",
       "1  absent    71 3       5   \n",
       "2  absent   158 3      14   \n",
       "3  present  128 4       5   \n",
       "4  absent     2 5       1   \n",
       "5  absent     1 4      15   \n",
       "6  absent     1 2      16   \n",
       "7  absent    61 2      17   \n",
       "8  absent    37 3      16   \n",
       "9  absent   113 2      16   \n",
       "10 present   59 6      12   \n",
       "11 present   82 5      14   \n",
       "12 absent   148 3      16   \n",
       "13 absent    18 5       2   \n",
       "14 absent     1 4      12   \n",
       "15 absent   168 3      18   "
      ]
     },
     "metadata": {},
     "output_type": "display_data"
    }
   ],
   "source": [
    "head(kyphosis, n=15)"
   ]
  },
  {
   "cell_type": "markdown",
   "metadata": {},
   "source": [
    "Obwohl der Datensatz mit 81 Datensätzen nicht sehr groß ist, wird er trotzdem in einem Trainings- und Testdatensatz eingeteilt. "
   ]
  },
  {
   "cell_type": "code",
   "execution_count": 4,
   "metadata": {},
   "outputs": [
    {
     "data": {
      "text/html": [
       "56"
      ],
      "text/latex": [
       "56"
      ],
      "text/markdown": [
       "56"
      ],
      "text/plain": [
       "[1] 56"
      ]
     },
     "metadata": {},
     "output_type": "display_data"
    }
   ],
   "source": [
    "n_Daten <- nrow(kyphosis) # 81 Zeilen\n",
    "# 70% der Daten werden zufällig ausgewählt und für die Trainingsdaten verwendet\n",
    "# als Index wird verwendet:\n",
    "set.seed(42)\n",
    "Training_i <- sample(nrow(kyphosis), 0.7 * n_Daten)\n",
    "length(Training_i) #Dies gibt die Anzahl der ausgewählten Zeilen aus"
   ]
  },
  {
   "cell_type": "markdown",
   "metadata": {},
   "source": [
    "Da die Aufteilung in Trainings- und Testdaten zufällig vornehmen wird, würde sich bei jedem Durchlauf die Ausgabe ändern. Da wir dies vermeiden möchten, müssen wir einen [Random Seed](http://www.dummies.com/programming/r/how-to-take-samples-from-data-in-r/) setzen. Dieser wird oberhalb von 'Training_i' festgelegt. Wir verwenden  die Zahl 42. Man könnte auch jede andere ganze Zahl verwenden, um einen Entscheidungsbaum zu trainieren."
   ]
  },
  {
   "cell_type": "code",
   "execution_count": 5,
   "metadata": {},
   "outputs": [
    {
     "data": {
      "text/html": [
       "25"
      ],
      "text/latex": [
       "25"
      ],
      "text/markdown": [
       "25"
      ],
      "text/plain": [
       "[1] 25"
      ]
     },
     "metadata": {},
     "output_type": "display_data"
    }
   ],
   "source": [
    "# Die restlichen 30% der Daten werden als Testdatensatz festgelegt.\n",
    "Test_i <- setdiff(1:nrow(kyphosis), Training_i)\n",
    "length(Test_i)"
   ]
  },
  {
   "cell_type": "markdown",
   "metadata": {},
   "source": [
    "Um zu schauen, ob jeder Datensatz-Index sauber in einem Trainings- und Test-Index getrennt wurde, kann man die Funktion $sort()$ verwenden."
   ]
  },
  {
   "cell_type": "code",
   "execution_count": 6,
   "metadata": {},
   "outputs": [
    {
     "data": {
      "text/html": [
       "<ol class=list-inline>\n",
       "\t<li>1</li>\n",
       "\t<li>2</li>\n",
       "\t<li>5</li>\n",
       "\t<li>8</li>\n",
       "\t<li>9</li>\n",
       "\t<li>10</li>\n",
       "\t<li>11</li>\n",
       "\t<li>12</li>\n",
       "\t<li>16</li>\n",
       "\t<li>18</li>\n",
       "\t<li>20</li>\n",
       "\t<li>22</li>\n",
       "\t<li>23</li>\n",
       "\t<li>24</li>\n",
       "\t<li>26</li>\n",
       "\t<li>29</li>\n",
       "\t<li>30</li>\n",
       "\t<li>31</li>\n",
       "\t<li>32</li>\n",
       "\t<li>33</li>\n",
       "\t<li>34</li>\n",
       "\t<li>35</li>\n",
       "\t<li>36</li>\n",
       "\t<li>37</li>\n",
       "\t<li>38</li>\n",
       "\t<li>39</li>\n",
       "\t<li>40</li>\n",
       "\t<li>41</li>\n",
       "\t<li>43</li>\n",
       "\t<li>44</li>\n",
       "\t<li>46</li>\n",
       "\t<li>47</li>\n",
       "\t<li>48</li>\n",
       "\t<li>49</li>\n",
       "\t<li>50</li>\n",
       "\t<li>51</li>\n",
       "\t<li>54</li>\n",
       "\t<li>55</li>\n",
       "\t<li>56</li>\n",
       "\t<li>58</li>\n",
       "\t<li>59</li>\n",
       "\t<li>62</li>\n",
       "\t<li>63</li>\n",
       "\t<li>64</li>\n",
       "\t<li>65</li>\n",
       "\t<li>67</li>\n",
       "\t<li>68</li>\n",
       "\t<li>71</li>\n",
       "\t<li>72</li>\n",
       "\t<li>73</li>\n",
       "\t<li>74</li>\n",
       "\t<li>75</li>\n",
       "\t<li>77</li>\n",
       "\t<li>78</li>\n",
       "\t<li>80</li>\n",
       "\t<li>81</li>\n",
       "</ol>\n"
      ],
      "text/latex": [
       "\\begin{enumerate*}\n",
       "\\item 1\n",
       "\\item 2\n",
       "\\item 5\n",
       "\\item 8\n",
       "\\item 9\n",
       "\\item 10\n",
       "\\item 11\n",
       "\\item 12\n",
       "\\item 16\n",
       "\\item 18\n",
       "\\item 20\n",
       "\\item 22\n",
       "\\item 23\n",
       "\\item 24\n",
       "\\item 26\n",
       "\\item 29\n",
       "\\item 30\n",
       "\\item 31\n",
       "\\item 32\n",
       "\\item 33\n",
       "\\item 34\n",
       "\\item 35\n",
       "\\item 36\n",
       "\\item 37\n",
       "\\item 38\n",
       "\\item 39\n",
       "\\item 40\n",
       "\\item 41\n",
       "\\item 43\n",
       "\\item 44\n",
       "\\item 46\n",
       "\\item 47\n",
       "\\item 48\n",
       "\\item 49\n",
       "\\item 50\n",
       "\\item 51\n",
       "\\item 54\n",
       "\\item 55\n",
       "\\item 56\n",
       "\\item 58\n",
       "\\item 59\n",
       "\\item 62\n",
       "\\item 63\n",
       "\\item 64\n",
       "\\item 65\n",
       "\\item 67\n",
       "\\item 68\n",
       "\\item 71\n",
       "\\item 72\n",
       "\\item 73\n",
       "\\item 74\n",
       "\\item 75\n",
       "\\item 77\n",
       "\\item 78\n",
       "\\item 80\n",
       "\\item 81\n",
       "\\end{enumerate*}\n"
      ],
      "text/markdown": [
       "1. 1\n",
       "2. 2\n",
       "3. 5\n",
       "4. 8\n",
       "5. 9\n",
       "6. 10\n",
       "7. 11\n",
       "8. 12\n",
       "9. 16\n",
       "10. 18\n",
       "11. 20\n",
       "12. 22\n",
       "13. 23\n",
       "14. 24\n",
       "15. 26\n",
       "16. 29\n",
       "17. 30\n",
       "18. 31\n",
       "19. 32\n",
       "20. 33\n",
       "21. 34\n",
       "22. 35\n",
       "23. 36\n",
       "24. 37\n",
       "25. 38\n",
       "26. 39\n",
       "27. 40\n",
       "28. 41\n",
       "29. 43\n",
       "30. 44\n",
       "31. 46\n",
       "32. 47\n",
       "33. 48\n",
       "34. 49\n",
       "35. 50\n",
       "36. 51\n",
       "37. 54\n",
       "38. 55\n",
       "39. 56\n",
       "40. 58\n",
       "41. 59\n",
       "42. 62\n",
       "43. 63\n",
       "44. 64\n",
       "45. 65\n",
       "46. 67\n",
       "47. 68\n",
       "48. 71\n",
       "49. 72\n",
       "50. 73\n",
       "51. 74\n",
       "52. 75\n",
       "53. 77\n",
       "54. 78\n",
       "55. 80\n",
       "56. 81\n",
       "\n",
       "\n"
      ],
      "text/plain": [
       " [1]  1  2  5  8  9 10 11 12 16 18 20 22 23 24 26 29 30 31 32 33 34 35 36 37 38\n",
       "[26] 39 40 41 43 44 46 47 48 49 50 51 54 55 56 58 59 62 63 64 65 67 68 71 72 73\n",
       "[51] 74 75 77 78 80 81"
      ]
     },
     "metadata": {},
     "output_type": "display_data"
    },
    {
     "data": {
      "text/html": [
       "<ol class=list-inline>\n",
       "\t<li>3</li>\n",
       "\t<li>4</li>\n",
       "\t<li>6</li>\n",
       "\t<li>7</li>\n",
       "\t<li>13</li>\n",
       "\t<li>14</li>\n",
       "\t<li>15</li>\n",
       "\t<li>17</li>\n",
       "\t<li>19</li>\n",
       "\t<li>21</li>\n",
       "\t<li>25</li>\n",
       "\t<li>27</li>\n",
       "\t<li>28</li>\n",
       "\t<li>42</li>\n",
       "\t<li>45</li>\n",
       "\t<li>52</li>\n",
       "\t<li>53</li>\n",
       "\t<li>57</li>\n",
       "\t<li>60</li>\n",
       "\t<li>61</li>\n",
       "\t<li>66</li>\n",
       "\t<li>69</li>\n",
       "\t<li>70</li>\n",
       "\t<li>76</li>\n",
       "\t<li>79</li>\n",
       "</ol>\n"
      ],
      "text/latex": [
       "\\begin{enumerate*}\n",
       "\\item 3\n",
       "\\item 4\n",
       "\\item 6\n",
       "\\item 7\n",
       "\\item 13\n",
       "\\item 14\n",
       "\\item 15\n",
       "\\item 17\n",
       "\\item 19\n",
       "\\item 21\n",
       "\\item 25\n",
       "\\item 27\n",
       "\\item 28\n",
       "\\item 42\n",
       "\\item 45\n",
       "\\item 52\n",
       "\\item 53\n",
       "\\item 57\n",
       "\\item 60\n",
       "\\item 61\n",
       "\\item 66\n",
       "\\item 69\n",
       "\\item 70\n",
       "\\item 76\n",
       "\\item 79\n",
       "\\end{enumerate*}\n"
      ],
      "text/markdown": [
       "1. 3\n",
       "2. 4\n",
       "3. 6\n",
       "4. 7\n",
       "5. 13\n",
       "6. 14\n",
       "7. 15\n",
       "8. 17\n",
       "9. 19\n",
       "10. 21\n",
       "11. 25\n",
       "12. 27\n",
       "13. 28\n",
       "14. 42\n",
       "15. 45\n",
       "16. 52\n",
       "17. 53\n",
       "18. 57\n",
       "19. 60\n",
       "20. 61\n",
       "21. 66\n",
       "22. 69\n",
       "23. 70\n",
       "24. 76\n",
       "25. 79\n",
       "\n",
       "\n"
      ],
      "text/plain": [
       " [1]  3  4  6  7 13 14 15 17 19 21 25 27 28 42 45 52 53 57 60 61 66 69 70 76 79"
      ]
     },
     "metadata": {},
     "output_type": "display_data"
    }
   ],
   "source": [
    "sort(Training_i); sort(Test_i)"
   ]
  },
  {
   "cell_type": "markdown",
   "metadata": {},
   "source": [
    "In dem oben ausgegeben Output, sieht man die Ausgabe der jeweiligen Datensätze, welche zu dem Trainings- und welche zu dem Test-Index zugeordnet wurden. Zuerst sieht man die Ausgabe der Datensatz-Zeilen des Trainings-Index, darunter die des  Test-Index."
   ]
  },
  {
   "cell_type": "markdown",
   "metadata": {},
   "source": [
    "Wenn die Datensatz-Zeilen (der Index) für den Trainings- und Testdatensatz festgelegt wurden, können die Datensätze definiert werden. Es findet die Bildung in den Trainings- und in den Testdatensatz statt.\n"
   ]
  },
  {
   "cell_type": "code",
   "execution_count": 7,
   "metadata": {},
   "outputs": [
    {
     "name": "stdout",
     "output_type": "stream",
     "text": [
      "'data.frame':\t56 obs. of  4 variables:\n",
      " $ Kyphosis: Factor w/ 2 levels \"absent\",\"present\": 1 1 2 1 1 2 1 2 1 1 ...\n",
      " $ Age     : int  11 36 96 118 177 91 72 59 131 68 ...\n",
      " $ Number  : int  3 4 3 4 2 5 5 6 5 5 ...\n",
      " $ Start   : int  15 13 12 16 14 12 15 12 13 10 ...\n"
     ]
    }
   ],
   "source": [
    "Training <- kyphosis[Training_i,]#Bildung des Trainingsdatensatzes\n",
    "str(Training)#Struktur anzeigen lassen"
   ]
  },
  {
   "cell_type": "code",
   "execution_count": 8,
   "metadata": {},
   "outputs": [
    {
     "name": "stdout",
     "output_type": "stream",
     "text": [
      "'data.frame':\t25 obs. of  4 variables:\n",
      " $ Kyphosis: Factor w/ 2 levels \"absent\",\"present\": 2 1 1 1 1 1 1 1 1 1 ...\n",
      " $ Age     : int  128 2 1 61 18 1 168 78 80 22 ...\n",
      " $ Number  : int  4 5 2 2 5 4 3 6 5 2 ...\n",
      " $ Start   : int  5 1 16 17 2 12 18 15 16 16 ...\n"
     ]
    }
   ],
   "source": [
    "Test <- kyphosis[Test_i,]#Bildung des Testdatensatzes\n",
    "str(Test)#Struktur anzeigen lassen"
   ]
  },
  {
   "cell_type": "markdown",
   "metadata": {},
   "source": [
    "Dem **Trainingsdatensatz** werden **56 Datensätze** mit den 4 Variablen zugeordnet. **25 Datensätze** werden dem $Testdatensatz$ zugeordnet. Man sieht, welche Werte 'Age', 'Number', 'Start' des Trainingsdatenstzes und des Testdatenstzes zugeordnet worden sind. \n",
    "\n",
    "Mit dem Trainingsdatensatz Training wird über die folgende Funktion rpart ein Entscheidungsbaum trainiert. Mit diesem Funktionsaufruf werden keine zusätzlichen Argumnete zu der Steuerung des Trainings mitgegeben. \n",
    "Die Diagnose Kyphosis ist eine ja/nein- Beobachtung und die oben aufgezeigte Datensatzstruktur zeigt, dass es sich bei der Varibalen Kyphosis vom Typ Faktor handelt. Der rpart-Funtionsaufruf kann mit dem Argument method = 'class' so gesteuert werden, sodass ein Klassifikationsbaum geschätzt wird (Regressionsbaum -> es liegen keine kontinuierlichen Daten vor). In dem nachfolgenden Funktionsaufruf zeigt der rpart-Algorythmus, um welchen Typ es sich bei der Kriteriumsvariable (Kyphosis) handelt und schätzt einen Klassifikationsbaum."
   ]
  },
  {
   "cell_type": "code",
   "execution_count": 9,
   "metadata": {},
   "outputs": [
    {
     "name": "stdout",
     "output_type": "stream",
     "text": [
      "n= 56 \n",
      "\n",
      "node), split, n, loss, yval, (yprob)\n",
      "      * denotes terminal node\n",
      "\n",
      "1) root 56 13 absent (0.76785714 0.23214286)  \n",
      "  2) Start>=12.5 31  2 absent (0.93548387 0.06451613) *\n",
      "  3) Start< 12.5 25 11 absent (0.56000000 0.44000000)  \n",
      "    6) Age>=123 7  1 absent (0.85714286 0.14285714) *\n",
      "    7) Age< 123 18  8 present (0.44444444 0.55555556) *\n"
     ]
    }
   ],
   "source": [
    "# einfaches Training, ohne weitere Funktionsargumnete wird dargestellt\n",
    "Anp <- rpart(Kyphosis ~ Age + Number + Start, data = Training)\n",
    "print(Anp)"
   ]
  },
  {
   "cell_type": "markdown",
   "metadata": {},
   "source": [
    "Die oben dargestellte Ausgabe der Entscheidungsbaum-Anpassung zeigt, dass die Parameter Start und Age einen besonderen Beitrag zu der operativen Korrektur der Wirbelsäulenverkrümmung haben. Im mittleren Abschnitt der Ausgabe wird die Legende ausgegeben.\n",
    "\n",
    "$Node:$ ist die Knotennummer. Es wird immer oben und dann von links nach rechts gelesen.\n",
    "\n",
    "$Split:$ Wie die Klassifikation vorgenommen wird. Hier zum Beispiel Start <= 12.5 und Age < 123.\n",
    "\n",
    "$n:$ Mit wie vielen Beobachtungen in den nächsten Knoten umgegangen wird z. B in den 2 Knoten mit 31 Beobachtungen.\n",
    "\n",
    "$loss$: bedeutet Verlust/Abgang. In den 2 Knoten wird mit 31 Beobachtungen hineingegangen. Der Grund dafür ist, dass die Bedingung Start>=12.5 zutrifft. Es liegt hier leider keine 100%ige Erfolgsquote vor, sondern nur 0.93548387. Das hat zur Bedeutung, dass ein erfolgreicher Eingriff ab dem 12,5 Wirbel unter diesen Bedingungen bei 30 Eingriffen erwartet und 2 Eingrifef werden nicht erfolgreich sein. Der Abgang aus diesen Konten ist 2. Damit ist das Ende dieses Astes erreicht.\n",
    "\n",
    "$yval:$ Dies ist der zutreffende y-Wert (Kriteriumsvariable). In dem Beispiel absent oder present.\n",
    "\n",
    "$yprob:$ Dies ist die Verteilung der y-Werte. Der absent-Anteil beträgt für den 2. Knoten beträgt  93,548%.\n",
    "\n",
    "$*:$ Dies bedeutet Astende. Die Bildung weiterer Knoten ist nicht mehr möglich. "
   ]
  },
  {
   "cell_type": "markdown",
   "metadata": {},
   "source": [
    "Die Baumstruktur, d. h., das Schätzen der optimalen Anpassung ist möglich durch die Wahl der geeigneten Funktionsargumente. Auf dieses wird in diesem Beispiel aber nicht näher eingegangen.\n",
    "\n",
    "Die Anpassung kann zur Unterstützung der Anpassungs-Interpretation folgendermaßen grafisch dargestellt werden:"
   ]
  },
  {
   "cell_type": "code",
   "execution_count": 10,
   "metadata": {},
   "outputs": [
    {
     "data": {
      "image/png": "[encoded data removed]",
      "text/plain": [
       "plot without title"
      ]
     },
     "metadata": {},
     "output_type": "display_data"
    }
   ],
   "source": [
    "plot(Anp, uniform = T, compress = T, branch = 0.7)\n",
    "text(Anp, all = T, use.n = T, cex = 0.5)\n"
   ]
  },
  {
   "cell_type": "markdown",
   "metadata": {},
   "source": [
    "$Erläuterung$ $Entscheidungsbaum:$\n",
    "\n",
    "- 1.Knoten: Auf der horizontalen wird der 1. Knoten dargestellt (Start <= 12.5),\n",
    "Anzahl = 56\n",
    "\n",
    "- linker Pfad: wenn 'ja' - Anzahl = 32 - Start >= 12.5\n",
    "2.Knoten: von 31 Eingriffen sind 29 erforderlich und 2 Eingriffe sind nicht erforderlich.\n",
    "\n",
    "\n",
    "- rechter Pfad: wenn 'nein' - Anzahl = 24 - Start <12.5 \n",
    "\n",
    "- 3.Knoten: \n",
    "\n",
    "- linker Pfad: wenn 'ja' Anzahl = 7\n",
    "\n",
    "- 6.Knoten: Von 7 Eingriffen sind 6 erforderlich und 1 Eingriff ist nicht erforderlich.\n",
    "\n",
    "- rechter Pfad: \n",
    "\n",
    "- 7.Knoten: von 17 Eingriffen sind 8 nicht erforderlich"
   ]
  },
  {
   "cell_type": "markdown",
   "metadata": {},
   "source": [
    "Es wird verdeutlicht, dass ein operativer Erfolg vom Start-Wirbel und von dem Alter des Kindes abhängt.\n",
    "Wenn der der geschätzte Baum zu komplex erscheint, so lässt er sich über die Funktion $prune$ zurückschneiden und dann neu schätzen.\n"
   ]
  },
  {
   "cell_type": "code",
   "execution_count": 25,
   "metadata": {},
   "outputs": [
    {
     "name": "stdout",
     "output_type": "stream",
     "text": [
      "\n",
      "Classification tree:\n",
      "rpart(formula = Kyphosis ~ Age + Number + Start, data = Training)\n",
      "\n",
      "Variables actually used in tree construction:\n",
      "[1] Start\n",
      "\n",
      "Root node error: 12/56 = 0.21429\n",
      "\n",
      "n= 56 \n",
      "\n",
      "       CP nsplit rel error xerror    xstd\n",
      "1 0.16667      0   1.00000 1.0000 0.25588\n",
      "2 0.01000      1   0.83333 1.1667 0.27003\n",
      "Call:\n",
      "rpart(formula = Kyphosis ~ Age + Number + Start, data = Training)\n",
      "  n= 56 \n",
      "\n",
      "         CP nsplit rel error   xerror      xstd\n",
      "1 0.1666667      0 1.0000000 1.000000 0.2558832\n",
      "2 0.0100000      1 0.8333333 1.166667 0.2700309\n",
      "\n",
      "Variable importance\n",
      " Start Number \n",
      "    92      8 \n",
      "\n",
      "Node number 1: 56 observations,    complexity param=0.1666667\n",
      "  predicted class=absent   expected loss=0.2142857  P(node) =1\n",
      "    class counts:    44    12\n",
      "   probabilities: 0.786 0.214 \n",
      "  left son=2 (44 obs) right son=3 (12 obs)\n",
      "  Primary splits:\n",
      "      Start  < 8.5  to the right, improve=4.160173, (0 missing)\n",
      "      Age    < 39.5 to the left,  improve=2.057143, (0 missing)\n",
      "      Number < 5.5  to the left,  improve=1.523810, (0 missing)\n",
      "  Surrogate splits:\n",
      "      Number < 6.5  to the left,  agree=0.804, adj=0.083, (0 split)\n",
      "\n",
      "Node number 2: 44 observations\n",
      "  predicted class=absent   expected loss=0.1136364  P(node) =0.7857143\n",
      "    class counts:    39     5\n",
      "   probabilities: 0.886 0.114 \n",
      "\n",
      "Node number 3: 12 observations\n",
      "  predicted class=present  expected loss=0.4166667  P(node) =0.2142857\n",
      "    class counts:     5     7\n",
      "   probabilities: 0.417 0.583 \n",
      "\n"
     ]
    }
   ],
   "source": [
    "# Angaben über Güte der Schätzung\n",
    "printcp(Anpassung)\n",
    "summary(Anpassung)"
   ]
  },
  {
   "cell_type": "code",
   "execution_count": 39,
   "metadata": {
    "collapsed": true
   },
   "outputs": [],
   "source": [
    "Vorherge = predict(Anpassung, newdata=Test, type='class')\n",
    "#Vorhersagen für die Daten 'Test'"
   ]
  },
  {
   "cell_type": "code",
   "execution_count": 40,
   "metadata": {},
   "outputs": [
    {
     "data": {
      "text/html": [
       "<table>\n",
       "<thead><tr><th></th><th scope=col>Kyphosis</th><th scope=col>Age</th><th scope=col>Number</th><th scope=col>Start</th><th scope=col>Vorherge</th></tr></thead>\n",
       "<tbody>\n",
       "\t<tr><th scope=row>2</th><td>absent </td><td>158    </td><td>3      </td><td>14     </td><td>absent </td></tr>\n",
       "\t<tr><th scope=row>7</th><td>absent </td><td> 61    </td><td>2      </td><td>17     </td><td>absent </td></tr>\n",
       "\t<tr><th scope=row>8</th><td>absent </td><td> 37    </td><td>3      </td><td>16     </td><td>absent </td></tr>\n",
       "\t<tr><th scope=row>12</th><td>absent </td><td>148    </td><td>3      </td><td>16     </td><td>absent </td></tr>\n",
       "\t<tr><th scope=row>16</th><td>absent </td><td>  1    </td><td>3      </td><td>16     </td><td>absent </td></tr>\n",
       "\t<tr><th scope=row>17</th><td>absent </td><td> 78    </td><td>6      </td><td>15     </td><td>absent </td></tr>\n",
       "\t<tr><th scope=row>19</th><td>absent </td><td> 80    </td><td>5      </td><td>16     </td><td>absent </td></tr>\n",
       "\t<tr><th scope=row>23</th><td>present</td><td> 96    </td><td>3      </td><td>12     </td><td>absent </td></tr>\n",
       "\t<tr><th scope=row>28</th><td>absent </td><td>100    </td><td>3      </td><td>14     </td><td>absent </td></tr>\n",
       "\t<tr><th scope=row>34</th><td>absent </td><td>112    </td><td>3      </td><td>16     </td><td>absent </td></tr>\n",
       "\t<tr><th scope=row>35</th><td>absent </td><td>140    </td><td>5      </td><td>11     </td><td>absent </td></tr>\n",
       "\t<tr><th scope=row>36</th><td>absent </td><td> 93    </td><td>3      </td><td>16     </td><td>absent </td></tr>\n",
       "\t<tr><th scope=row>38</th><td>present</td><td> 52    </td><td>5      </td><td> 6     </td><td>present</td></tr>\n",
       "\t<tr><th scope=row>40</th><td>present</td><td> 91    </td><td>5      </td><td>12     </td><td>absent </td></tr>\n",
       "\t<tr><th scope=row>44</th><td>absent </td><td> 61    </td><td>4      </td><td> 1     </td><td>present</td></tr>\n",
       "\t<tr><th scope=row>45</th><td>absent </td><td> 97    </td><td>3      </td><td>16     </td><td>absent </td></tr>\n",
       "\t<tr><th scope=row>48</th><td>absent </td><td>131    </td><td>5      </td><td>13     </td><td>absent </td></tr>\n",
       "\t<tr><th scope=row>50</th><td>absent </td><td>177    </td><td>2      </td><td>14     </td><td>absent </td></tr>\n",
       "\t<tr><th scope=row>51</th><td>absent </td><td> 68    </td><td>5      </td><td>10     </td><td>absent </td></tr>\n",
       "\t<tr><th scope=row>52</th><td>absent </td><td>  9    </td><td>2      </td><td>17     </td><td>absent </td></tr>\n",
       "\t<tr><th scope=row>55</th><td>absent </td><td>140    </td><td>4      </td><td>15     </td><td>absent </td></tr>\n",
       "\t<tr><th scope=row>60</th><td>absent </td><td>102    </td><td>3      </td><td>13     </td><td>absent </td></tr>\n",
       "\t<tr><th scope=row>64</th><td>absent </td><td>118    </td><td>3      </td><td>16     </td><td>absent </td></tr>\n",
       "\t<tr><th scope=row>72</th><td>absent </td><td>127    </td><td>4      </td><td>12     </td><td>absent </td></tr>\n",
       "\t<tr><th scope=row>79</th><td>absent </td><td>120    </td><td>2      </td><td>13     </td><td>absent </td></tr>\n",
       "</tbody>\n",
       "</table>\n"
      ],
      "text/latex": [
       "\\begin{tabular}{r|lllll}\n",
       "  & Kyphosis & Age & Number & Start & Vorherge\\\\\n",
       "\\hline\n",
       "\t2 & absent  & 158     & 3       & 14      & absent \\\\\n",
       "\t7 & absent  &  61     & 2       & 17      & absent \\\\\n",
       "\t8 & absent  &  37     & 3       & 16      & absent \\\\\n",
       "\t12 & absent  & 148     & 3       & 16      & absent \\\\\n",
       "\t16 & absent  &   1     & 3       & 16      & absent \\\\\n",
       "\t17 & absent  &  78     & 6       & 15      & absent \\\\\n",
       "\t19 & absent  &  80     & 5       & 16      & absent \\\\\n",
       "\t23 & present &  96     & 3       & 12      & absent \\\\\n",
       "\t28 & absent  & 100     & 3       & 14      & absent \\\\\n",
       "\t34 & absent  & 112     & 3       & 16      & absent \\\\\n",
       "\t35 & absent  & 140     & 5       & 11      & absent \\\\\n",
       "\t36 & absent  &  93     & 3       & 16      & absent \\\\\n",
       "\t38 & present &  52     & 5       &  6      & present\\\\\n",
       "\t40 & present &  91     & 5       & 12      & absent \\\\\n",
       "\t44 & absent  &  61     & 4       &  1      & present\\\\\n",
       "\t45 & absent  &  97     & 3       & 16      & absent \\\\\n",
       "\t48 & absent  & 131     & 5       & 13      & absent \\\\\n",
       "\t50 & absent  & 177     & 2       & 14      & absent \\\\\n",
       "\t51 & absent  &  68     & 5       & 10      & absent \\\\\n",
       "\t52 & absent  &   9     & 2       & 17      & absent \\\\\n",
       "\t55 & absent  & 140     & 4       & 15      & absent \\\\\n",
       "\t60 & absent  & 102     & 3       & 13      & absent \\\\\n",
       "\t64 & absent  & 118     & 3       & 16      & absent \\\\\n",
       "\t72 & absent  & 127     & 4       & 12      & absent \\\\\n",
       "\t79 & absent  & 120     & 2       & 13      & absent \\\\\n",
       "\\end{tabular}\n"
      ],
      "text/markdown": [
       "\n",
       "| <!--/--> | Kyphosis | Age | Number | Start | Vorherge | \n",
       "|---|---|---|---|---|---|---|---|---|---|---|---|---|---|---|---|---|---|---|---|---|---|---|---|---|\n",
       "| 2 | absent  | 158     | 3       | 14      | absent  | \n",
       "| 7 | absent  |  61     | 2       | 17      | absent  | \n",
       "| 8 | absent  |  37     | 3       | 16      | absent  | \n",
       "| 12 | absent  | 148     | 3       | 16      | absent  | \n",
       "| 16 | absent  |   1     | 3       | 16      | absent  | \n",
       "| 17 | absent  |  78     | 6       | 15      | absent  | \n",
       "| 19 | absent  |  80     | 5       | 16      | absent  | \n",
       "| 23 | present |  96     | 3       | 12      | absent  | \n",
       "| 28 | absent  | 100     | 3       | 14      | absent  | \n",
       "| 34 | absent  | 112     | 3       | 16      | absent  | \n",
       "| 35 | absent  | 140     | 5       | 11      | absent  | \n",
       "| 36 | absent  |  93     | 3       | 16      | absent  | \n",
       "| 38 | present |  52     | 5       |  6      | present | \n",
       "| 40 | present |  91     | 5       | 12      | absent  | \n",
       "| 44 | absent  |  61     | 4       |  1      | present | \n",
       "| 45 | absent  |  97     | 3       | 16      | absent  | \n",
       "| 48 | absent  | 131     | 5       | 13      | absent  | \n",
       "| 50 | absent  | 177     | 2       | 14      | absent  | \n",
       "| 51 | absent  |  68     | 5       | 10      | absent  | \n",
       "| 52 | absent  |   9     | 2       | 17      | absent  | \n",
       "| 55 | absent  | 140     | 4       | 15      | absent  | \n",
       "| 60 | absent  | 102     | 3       | 13      | absent  | \n",
       "| 64 | absent  | 118     | 3       | 16      | absent  | \n",
       "| 72 | absent  | 127     | 4       | 12      | absent  | \n",
       "| 79 | absent  | 120     | 2       | 13      | absent  | \n",
       "\n",
       "\n"
      ],
      "text/plain": [
       "   Kyphosis Age Number Start Vorherge\n",
       "2  absent   158 3      14    absent  \n",
       "7  absent    61 2      17    absent  \n",
       "8  absent    37 3      16    absent  \n",
       "12 absent   148 3      16    absent  \n",
       "16 absent     1 3      16    absent  \n",
       "17 absent    78 6      15    absent  \n",
       "19 absent    80 5      16    absent  \n",
       "23 present   96 3      12    absent  \n",
       "28 absent   100 3      14    absent  \n",
       "34 absent   112 3      16    absent  \n",
       "35 absent   140 5      11    absent  \n",
       "36 absent    93 3      16    absent  \n",
       "38 present   52 5       6    present \n",
       "40 present   91 5      12    absent  \n",
       "44 absent    61 4       1    present \n",
       "45 absent    97 3      16    absent  \n",
       "48 absent   131 5      13    absent  \n",
       "50 absent   177 2      14    absent  \n",
       "51 absent    68 5      10    absent  \n",
       "52 absent     9 2      17    absent  \n",
       "55 absent   140 4      15    absent  \n",
       "60 absent   102 3      13    absent  \n",
       "64 absent   118 3      16    absent  \n",
       "72 absent   127 4      12    absent  \n",
       "79 absent   120 2      13    absent  "
      ]
     },
     "metadata": {},
     "output_type": "display_data"
    }
   ],
   "source": [
    "#Überblick über Test- und Vorhersage-Daten -> werden beiden Daten zu einen data.frame zusammengefasst\n",
    "Kombin <- data.frame(Test,Vorherge)\n",
    "Kombin\n"
   ]
  },
  {
   "cell_type": "markdown",
   "metadata": {},
   "source": [
    "[Hier](https://cran.r-project.org/web/packages/rpart/rpart.pdf) findet man weitere Funktionen von rpart."
   ]
  },
  {
   "cell_type": "markdown",
   "metadata": {},
   "source": [
    "Gibt man $rpart$ ein und betätigt anschließend die $F1$-Taste, so erhält man folgenden Code und Entscheidungsbaum."
   ]
  },
  {
   "cell_type": "code",
   "execution_count": 51,
   "metadata": {
    "collapsed": true
   },
   "outputs": [],
   "source": [
    "?rpart"
   ]
  },
  {
   "cell_type": "code",
   "execution_count": 30,
   "metadata": {},
   "outputs": [
    {
     "data": {
      "image/png": "[encoded data removed]",
      "text/plain": [
       "plot without title"
      ]
     },
     "metadata": {},
     "output_type": "display_data"
    }
   ],
   "source": [
    "fit <- rpart(Kyphosis ~ Age + Number + Start, data = kyphosis)\n",
    "fit2 <- rpart(Kyphosis ~ Age + Number + Start, data = kyphosis,\n",
    "              parms = list(prior = c(.65,.35), split = \"information\"))\n",
    "fit3 <- rpart(Kyphosis ~ Age + Number + Start, data = kyphosis,\n",
    "              control = rpart.control(cp = 0.05))\n",
    "par(mfrow = c(1,2), xpd = NA) # otherwise on some devices the text is clipped\n",
    "plot(fit)\n",
    "text(fit, use.n = TRUE)\n",
    "plot(fit2)\n",
    "text(fit2, use.n = TRUE)"
   ]
  }
 ],
 "metadata": {
  "kernelspec": {
   "display_name": "R",
   "language": "R",
   "name": "ir"
  },
  "language_info": {
   "codemirror_mode": "r",
   "file_extension": ".r",
   "mimetype": "text/x-r-source",
   "name": "R",
   "pygments_lexer": "r",
   "version": "3.4.2"
  }
 },
 "nbformat": 4,
 "nbformat_minor": 2
}
