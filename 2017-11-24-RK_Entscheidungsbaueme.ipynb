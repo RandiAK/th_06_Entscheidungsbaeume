{
 "cells": [
  {
   "cell_type": "markdown",
   "metadata": {},
   "source": [
    "# Theoretischer Hintergrund\n",
    "\n",
    "Zu den beliebtesten und einfachsten Data-Mining-Algorithem zählen neben Naive-Bayes die Entscheidungsbäume. Sie sind genau und können einfach implementiert werden. Entscheidungsbäume erzeugen ein Modell, weches für den Anwender einfach zu interpretieren ist. Sie besitzen  eine eingebaute Dimensionsreduktion und können auch gut hochdimensionale Daten darstellen.[Quelle](http://www.uni-wuerzburg.de/fileadmin/10030600/Mitarbeiter/Schwemmlein_Lena/20111207_Diplomarbeit_Lena_Schwemmlein_Data_Mining.pdf)\n",
    "\n",
    "Bevor die dem Verfahren zugrunde liegenden Ideen erläutern werden, muss das Klassifikationsproblem erst noch formalisiert werden. Anschließend werden die Verfahren des Entscheidungsbaums erläutert. \n",
    "Zunächst wird die Theorie der Entscheidungsbäume erläutert. Im Anschluss wird anhand eines Beispiels ein Entscheidungsbäume in R erläutert. Anschließend werden Beispieldatensätze in Python erklärt.\n"
   ]
  },
  {
   "cell_type": "markdown",
   "metadata": {},
   "source": [
    "## Ein Beispiel \n",
    "\n",
    "\n",
    "Schauen wir uns das folgende Beispiel an. Dieses enthält fiktive (verdichtete)\n",
    "Daten, welche eine Problemstellung der Firma behandelt. Die Firma denkt\n",
    "darüber nach, ihren Umsatz mittels einer Marketingkampagne zu steigern.\n",
    "Die Firma möchte nur solchen Kunden einen Gutschein für weitere\n",
    "Bestellungen senden, bei denen zu erwarten ist, dass sie nicht ohnehin\n",
    "innerhalb von 90 Tagen eine neue Bestellung aufgeben würden (da ja sonst\n",
    "Geld verloren ginge). Es soll eine Vorhersage zum Gutscheinversand auf\n",
    "Basis der Kenntnis über den Ablauf vergangener Bestellungen erfolgen,\n",
    "wobei die Attribute *Verspätung, Kunde, Posten* und *Rücksendung*\n",
    "betrachtet werden und mittels dieser darauf geschlossen werden soll, ob\n",
    "eine Neubestellung (innerhalb von 90 Tagen) erfolgen wird (was dann\n",
    "hieße, dass kein Gutschein zu senden wäre). Die zugehörigen Daten zeigt\n",
    "die folgende Tabelle. Dabei bedeuten die Werte in der Spalte `Kunde`\n",
    "**F**rau, **M**ann und **U**nternehmen.\n",
    "\n",
    "   Fall |  Verspätung |  Kunde  | Posten |  Rücksendung  | ***Neubestellung?***\n",
    "  :--------:|:--------------: | :---------: |:----------:| :---------------: |:------------------:\n",
    "      1     |       lang      |      M      |   einzel   |       nein        |        nein\n",
    "      2     |       lang      |      M      |   einzel   |        ja         |        nein\n",
    "      3     |      keine      |      M      |   einzel   |       nein        |         ja\n",
    "      4     |       kurz      |      F      |   einzel   |       nein        |         ja\n",
    "      5     |       kurz      |      U      |  mehrere   |       nein        |         ja\n",
    "      6     |       kurz      |      U      |  mehrere   |        ja         |        nein\n",
    "      7     |      keine      |      U      |  mehrere   |        ja         |         ja\n",
    "      8     |       lang      |      F      |   einzel   |       nein        |        nein\n",
    "      9     |       lang      |      U      |  mehrere   |       nein        |         ja\n",
    "      10    |       kurz      |      F      |  mehrere   |       nein        |         ja\n",
    "      11    |       lang      |      F      |  mehrere   |        ja         |         ja\n",
    "      12    |      keine      |      F      |   einzel   |        ja         |         ja\n",
    "      13    |      keine      |      M      |  mehrere   |       nein        |         ja\n",
    "      14    |       kurz      |      F      |   einzel   |        ja         |        nein\n",
    "\n",
    "  : Beispieldaten für Entscheidungen zum Gutscheinversand<span\n",
    "  data-label=\"tab:dmgutbsp\"></span>\n",
    "\n",
    "Bei dem Beispiel müssen also nur *binäre* Entscheidungen (Ja/Nein) getroffen\n",
    "werden. Man kann etwas allgemeiner sagen, dass es darum geht, die Datensätze in zwei\n",
    "*Klassen* einzuteilen. Mit den obigen Trainingsdaten wollen wir dann\n",
    "für neue Datensätze Vorhersagen treffen, zu welcher Klasse diese \n",
    "gehören.\n",
    "\n",
    "Manchmal muss man versuchen, Daten aus einem nichtnumerischen Datensatz zu klassifizieren und zu gruppieren. Dazu kann man dann einen Entscheidungsbaum verwenden. Dieser hilft dabei, die Daten richtig zu klassifizieren und ebenso zu gruppieren. Ein Entscheidungsbaum-Algorithmus funktioniert, indem er einen Satz aus ja- und nein-Regeln entwickelt. Man kann diesen für neue Daten folgen, um genau zu ermitteln, wie sie durch das Modell charakterisiert werden. Bei Entscheidungsbäumen muss man vorsichtig sein, weil ein Risiko der Fehlerfortpflanzung besteht, welche auftritt, wenn eine Regel des Modells falsch ist. In dem Ereignis auftretende Fehler der Ereignisse können auf diesen falschen Regeln beruhen und sich dadurch auf alle nachfolgenden Entscheidungen ziehen, die entlang des Zweiges des Baums getroffen werden.[Quelle](https://www.thalia.de/shop/home/rubrikartikel/ID42443078.html?ProvID=11000522)"
   ]
  },
  {
   "cell_type": "markdown",
   "metadata": {},
   "source": [
    "### Klassifikationsproblem \n",
    "Um die Notation für die Formaliserung zu vereinfachen, stellen wir uns\n",
    "vor, dass sämtliche Attributwerte reelle Zahlen wären, die ggf. aber nur\n",
    "nominal bzw. ordinal zu interpretieren wären. Dies lässt sich durch\n",
    "Transformation immer erreichen, etwa indem man für nominale Attribute\n",
    "den einzelnen Attributwerten *irgendwelche verschiedenen* Zahlenwerte\n",
    "zuordnet oder indem man ordinalen Attributen Zahlenwerte so zuordnet,\n",
    "dass die *Ordnung erhalten* bleibt. Damit kann man ohne Beschränkung der\n",
    "Allgemeinheit annehmen, dass insgesamt $m$ Datensätze\n",
    "$d_1,d_2,\\dots,d_m$ mit jeweils $\\mu$ reellwertigen Merkmalen\n",
    "(bzw. *Attributen*) $A_1,A_2,\\dots,A_\\mu$ betrachtet werden, d.h.\n",
    "$$\n",
    "\\mathcal{D} = \\{d_1,d_2,\\dots,d_m\\} \\subset \\mathbb{R}^\\mu\n",
    "$$ \n",
    "stellt die *Datenbasis*\n",
    "(die Menge der betrachteten Datensätze) dar. Dabei nehme $A_i$ (das\n",
    "$i$-te Attribut) $m_i$ verschiedene Werte $w_{i,j}\\>,\\ j=1,2,\\dots,m_i$\n",
    "mit der Häufigkeit $m_{i,j}$ an.\n",
    "\n",
    "Die Datensätze aus $\\mathcal{D}$ sind im Allgemeinen $\\kappa$ Klassen\n",
    "$c^{(k)}\\>,\\ k=1,\\dots,\\kappa$ zugeordnet. Hierbei ist\n",
    "$\\kappa\\in\\mathbb{N},\\ \\kappa\\ge2$. Wie für die Attributwerte kann auch für\n",
    "die Klassen angenommen werden, dass diese (natürliche) Zahlen sind,\n",
    "d.h. $c^{(k)}=k-1\\>,\\\n",
    "k=1,\\dots,\\kappa$. Dabei kommt es lediglich auf die Unterscheidbarkeit\n",
    "an und es ist keine Rangfolge festgelegt (Nominalskala). Im Falle einer\n",
    "binären Klassifikation wie im Gutscheinproblem ist also $\\kappa=2$ und\n",
    "es gibt die Klassen 0 und 1; eine Darstellung, die auch in der Praxis\n",
    "häufig anzutreffen ist.\n",
    "\n",
    "In den im Rahmen einer Klassifikation betrachteten *Trainingsdaten*\n",
    "$\\mathcal{T}$ ist dann jedem Datensatz $d_l$ noch eine (wahre bzw. beobachtete)\n",
    "Klasse $c_l\\in\\{0,1,\\dots,\\kappa-1\\}$ zugeordnet, d.h. der $l$-te\n",
    "Trainingsdatensatz besteht aus Tupeln $(d_l,c_l)$, wobei für die\n",
    "Klassenzuordnungen $\\mathcal{C}$ gilt \n",
    "$$\n",
    "\\mathcal{C} = (c_1,c_2,\\dots,c_m)\\>,\\ c_l \\in \\{0,1,\\dots,\\kappa-1\\}\\>,\\ l=1,2,\\dots,\n",
    "m$$\n",
    "so dass sich die Trainingsdaten darstellen lassen als\n",
    "$$\n",
    "\\mathcal{T} =(\\mathcal{D},\\mathcal{C}) = \\{(d_1,c_1),(d_2,c_2),\\dots,(d_m,c_m)\\} \n",
    "  \\subset \\mathbb{R}^\\mu\\times\\{0,1,\\dots,\\kappa-1\\}\\>.\n",
    "$$ \n",
    "Das Klassifikationsproblem besteht dann darin, eine Funktion\n",
    "$$\\begin{aligned}\n",
    " f:\\mathbb{R}^\\mu&\\to\\{0,1,\\dots,\\kappa-1\\}\\\\\n",
    " d&\\mapsto f(d)=c\\end{aligned}$$ \n",
    "zu finden, die zu einem Datensatz $d$\n",
    "die gesuchte Klasse $c$ liefert bzw. vorhersagt. In diesem Zusammenhang\n",
    "wird $f$ als *Klassifikator* und dessen Anwendung als *Klassifikation*\n",
    "bezeichnet. Die Bestimmung der Funktion $f$ aus den Trainingsdaten\n",
    "$\\mathcal{T}$ heißt *Klassifikatorentwurf*.\n"
   ]
  },
  {
   "cell_type": "markdown",
   "metadata": {},
   "source": [
    "\n"
   ]
  },
  {
   "cell_type": "markdown",
   "metadata": {},
   "source": [
    "## Entscheidungsbäume\n",
    "### Was versteht man unter Entscheidungsbäumen?\n",
    "[Entscheidungsbäume](https://de.wikipedia.org/wiki/Entscheidungsbaum) (engl. decision Trees) sind geordnete, gerichtete Bäume.  Sie dienen der Darstellung von Entscheidungsregeln und veranschaulichen hierarchisch aufeinanderfolgende Entscheidungen. Anhand der Darstellungsform für eine Klassifikationsregel eines Entscheidungsbaums, können derer Objekte in Klassen eingeteilt werden. Sie werden in zahlreichen Bereichen eingesetzt, in welchen automatisch klassifiziert oder aus Erfahrungswissen formale Regeln hergeleitet oder dargestellt werden, z.B im Data-Mining, im Maschinellen Lernen als Methode zur automatischen Klassifikation von Objekten, in der Stochastik als Wahrscheinlichkeitsbaum zur Veranschaulichung bedingter Wahrscheinlichkeiten oder in der ärztlichen Entscheidungsfindung und in der Notfallmedizin. \n",
    "\n",
    "\n",
    "Die Grundlage für den Aufbau eines Entscheidungsbaumes sind Trainingsdatensätze. Deren Klassenzugehörigkeit ist bekannt. Dem  ID3-Algorithmus (Induction  of  Decision  Trees) wird mit deren Hilfe ein  Klassifikator  mit  einem  diskreten  Wert  hervorgebracht.  Ein  Klassifikator  entscheidet darüber,  welcher  Klasse  ein  neuer  Datensatz  zuzuordnen  ist.  Die  Trainingsbeispieldatensätze  bestehen  aus  mehreren  Attributen. i stellt ein Attribut (Zielattribut) dar.\n",
    "Das  Zielattribut  ist  die  Größe,  welche  klassifiziert  werden  soll.\n",
    "Jedes  Blatt  des  Entscheidungsbaumes  wird  anhand des Zielattributes klassifiziert. Es erhält also einen   möglichen   Wert   des   Zielattributes. Bei der Entscheidungsauswahl darf das Zielattribut nicht berücksichtigt \n",
    "werden, weil es das Ergebnis dieser Entscheidungen darstellt. Daher taucht es nie selbst als Knoten im Baum auf. \n",
    "\n",
    "Die  Entscheidungsbäume  werden  top-down  aufgebaut. Ausgehend  von  der  Wurzel des Baumes werden Unterteilungen anhand der Attributwerte vorgenommen. Die  Verfahren  variieren darin,  nach  welchem  Kriterium  diese  Unterteilung  vorgenommen  wird. Zu den häufig implementierten Baumtypen zählen die sogennante  CARTs (Classification   And   Regression   Trees)   und   CHAIDs   (Chi-Square   Automatic   Interaction Detectors). Der ID3-Algorithmus findet ebenfalls Verwendung.[Quelle](https://www.in.th-nuernberg.de/professors/Holl/Personal/DataMining_Bachelor.pdf) \n",
    "\n",
    "Auf die Verfahren wird im späteren Verlauf der Ausarbeitung näher eingegangen.\n",
    "\n",
    "\n",
    "<!---\n",
    "![SplitPivottabelle](img/decisiontree.png)\n",
    "--->\n",
    "<img src=\"img/decisiontree.png\" width=\"1000\">"
   ]
  },
  {
   "cell_type": "markdown",
   "metadata": {},
   "source": [
    "$Abbildung1:$ Die Abbildung stellt einen Entscheidungsbaum in R dar. \n",
    "\n",
    "$Root:$ Wurzel,\n",
    "$Node:$ Knoten,\n",
    "$Leaf:$ Blätter\n",
    "\n",
    "Nach dem Theorieteil der Ausarbeitung wird ein Entscheidungsbaum in R dargestellt. Zudem werden Entscheidungsbaum in Python dargestellt. "
   ]
  },
  {
   "cell_type": "markdown",
   "metadata": {},
   "source": [
    "### Arten von Entscheidungsbäumen\n",
    "\n",
    "\n",
    "\n",
    "Entscheidungsbäume sind oft einfacher zu interpretieren. Wenn man einen Baum konstruiert, ist eine der wichtigen Entscheidungen, die man macht, der Algorithmus oder die Methode, welche man für die Splits benutzt.\n",
    "[Quelle](https://www.lynda.com/Big-Data-tutorials/Decision-trees/420305/505150-4.html)\n",
    "\n",
    "Der Baum  wird so gestaltet,  dass  in  jedem  Knoten  ein  Attribut  abgefragt  wird und  auch eine  Entscheidung  getroffen  wird,  bis  man  ein  Blatt  erreicht hat, welches von einem Knoten abgeht. An diesem wird  keine  weitere  Verzweigung  durchgeführt.\n",
    "Die Klassifikation  kann hier abgelesen  werden.  Solche Bäume werden auch Klassifikationsbäume genannt. \n",
    "\n",
    "\n",
    "Bei den Entscheidungsbäumen unterscheidet man zwischen $Klassifikationsbäumen$ und $Regressionsbäumen$. Klassifikationsbäume stellen eine Auswahl von diskreten Klassen und ihren Beziehungen untereinander dar (quantitative und kategoriale Daten, um kategoriale Ausgänge zu formen). Regressionsbäume dienen der Prognose und ordnen jedem Wert einen stetigen Wert zu. Eine quantitative Variabel liegt bei Regressionsbäumen als Zielgröße vor (quantitative und kategorial Daten, um quantitative Ausgänge zu formen).\n",
    "Es wird oft von $geordneten$ und $ungeordneten$ Attributen geredet. Von einem geordneten Attribut wird gesprochen, wenn es kontinuierliche beziehungsweise nummerische Werte besitzt. Ein ungeordnetes Attribut weißt dahingegen diskrete oder kategorische Werte auf. Es gibt auch einige Algorithmen, welche nur mit geordneten oder nur mit ungeordneten Variablen arbeiten können. \n",
    "Von einem $binärem$ Entscheidungsbaum spricht man, wenn jeder Knotenpunkt höchstens zwei Verzweigungen besitzt, d.h es wird an jeder Wurzelverzweigung eine eindeutige Entscheidung abgefragt. I.d.R sind bei $nicht-binären$ Bäumen die Anzahl der Verzweigungen an einem Knoten mit der Anzahl der verschiedenen Ausprägungen eines Attributs identisch. \n",
    "Außerdem lassen sich Entscheidungsbäume in $univariate$, $multivariat-lineare$ und $nicht-linearen$ Entscheidungsbäume unterteilen. Bei univariaten Entscheidungsbäumen wird an jedem Knoten nur ein Attribut getestet. Diese sind eine sehr beliebte Art, welche z.B im Basisalgorythmus ID3 und in der Weiterentwicklung im C4.5 verwendet wird. Bei multivariaten Bäumen wird an jedem Knoten eine Linearkombination aus mehreren Attributen getestet. Unter einem nicht-linear Entscheidungsbaum spricht man, wenn an jedem Knoten nicht-Linearkombination aus mehreren Attributen getestet wird. [Weide, 2012]\n",
    "\n",
    "### Graphentheorie\n",
    "Ein Entscheidungsbaum kann zunächst im Sinne der Graphentheorie beschreiben werden. Unter einem $Graph$ versteht man eine Menge von Objekten und die zwischen den Objekten bestehenden Verbindungen. Diese können durch Linien repräsentiert werden. Wenn diese Linien zudem eine Richtung haben, so handelt es sich um einen gerichteten Graphen. Die Linien können durch Pfeile dargestellt werden. \n",
    "\n",
    "- **Definition 1:** Ein (gerichter) Graph ist ein Tupel $\\mathcal{G}$ = (V,E) mit einer Menge von Knoten V und einer Menge von (gerichteten) Kanten E ⊆ V x V. \n",
    "\n",
    "Gerichtete Kanten sind Tupel (v, v') mit v != v'. v stellt den Anfang der Kante dar und v' das Ende. Wenn der Graph uungerichtet ist, so werden die Kanten als Mengen {v, v'} darstellt. Die Knoten eines Graphen können entlang seiner Kante entlaufen. Dies ist in einem gerichteten Graphen nur in eine Richtung möglich. \n",
    "\n",
    "\n",
    "- **Definition 2:** Sei $\\mathcal{G}$ ein Graph. Ein Weg in $\\mathcal{G}$ ist eine Folge von Knoten $w=(v_0,v_1,v_2\\dots,v_n)$, so dass die Kanten  $ {{v_i, v_i+1}} $ oder $(v_i, v_i+1)$ für alle i in $\\mathcal{E}$ enthalten sind, 0 ≤ i ≤ n-1. Die Länge von $\\mathcal{w}$ ist n. \n",
    "\n",
    "\n",
    " \n",
    "- **Definition 3:** Sei $\\mathcal{G}$ ein Graph. Falls alle Knoten eines Weges $\\mathcal{w}$ verschieden sind, so wird $\\mathcal{w}$ als Pfad andernfalls als Zyklus bezeichnet. Ein Graph ohne Zyklus wird asyklisch benannt. Wenn es zwischen je zwei Kanten in $\\mathcal{G}$ (mindestens) einen Pfad gibt, so wird der Graph zusammenhängend genannt.\n",
    "\n",
    "- **Definition 4:** Ein Baum $\\mathcal{T}$ = ($\\mathcal{G}$,r) besteht aus einem Graph $\\mathcal{G}$ = (V,E), der azyklisch und zusammenhängend ist und einem Knoten r, so heißt er Wurzel.\n",
    "\n",
    "- **Definition 5:** Ein gerichteter Baum $\\mathcal{T}$ = (G, r) ist ein gerichteter Graph G = (V, E) mit der Wurzel r. Für ihn gibt es für jeden Knoten v $\\mathcal{!=}$ r genau einen Pfad  $\\mathcal{w}$= (r,....,v) gibt. \n",
    "\n",
    "Damit man einen Entscheidungsbaum definieren kann, wird im Nachfolgenden noch der Begriff des Blattes benötigt. \n",
    "\n",
    "\n",
    "- **Definition 6:** Ein Knoten l eines gerichteten Baumes $\\mathcal{T}$ heißt Blatt, wenn keine Kante von ihm wegzeigt. (l, v) /∈ $\\mathcal{E}$ für alle v E V\n",
    "\n",
    "\n",
    "\n",
    "\n",
    "- **Satz 7:** Sei $\\mathcal{T}$ = ($\\mathcal{G}$,r) ein Baum mit der Wurzel r. Die nachfolgenden Aussagen sind äquivalent:\n",
    "1. G ist zusammenhängend und auch azyklisch. \n",
    "2. Durch genau einen Pfad sind je zwei Knoten  v, v' element V, v ≠ v'. \n",
    "3. Es existiert genau ein Pfad (r,....,v), für jedes v element V, v ≠ r.\n",
    "\n",
    "\n",
    "- **Definition8**: Ein Binärbaum ist ein Baum $\\mathcal{T}$ = ($\\mathcal{G}$,r). Bei ihm hat jeder Knoten maximal zwei direkte Nachfolger.\n",
    "\n",
    "\n",
    "<!---\n",
    "![SplitPivottabelle](img/Entscheidungsbaum_Binaer.png)\n",
    "--->\n",
    "<img src=\"img/EntscheidungsbaumBinaer.png\" width=\"1000\">\n",
    "\n",
    "[Abbildung](https://www.google.de/search?q=bin%C3%A4rbaum&client=firefox-b&dcr=0&source=lnms&tbm=isch&sa=X&ved=0ahUKEwib9LO39ZjYAhUMmbQKHRcvCcYQ_AUICigB&biw=1366&bih=656#imgrc=tKYpo271vvhMCM:)\n",
    "\n",
    "In einem Binärbaum enthält ein Level Li maximal $( 2^i)$ Knoten. Wenn diese Zahl erreicht wird, bezeichnet man dieses Level als vollständig. Ein Binärbaum mit der Höhe H besitzt maximal 2^(H+1)-1  Knoten. Mit Hilfe des Gini Index können binäre Entscheidungsbäume erstellt werden.\n",
    "\n",
    "Die Knoten stehen symbolisch für abzufragende Enscheidungskriterien. Ein Entscheidungskriterium kann entweder ein Attribut oder eine Kombination von Attributen sein. Beispiel anhand des Aussehens einer Hand. Die Kanten eines Entscheidungsbaumes zeigen die Alternativen auf, welche zu einem Kriterium gehören, d.h Mengen von Attributswerten, wie normal, leicht angeschwollen oder stark angeschwollen. Die Blätter eines Entscheidungsbaums stehen für die Entscheidungsergebnisse. Der Patient hat eine geschwollene Hand.\n",
    "Wenn man nach der Erstellung von einem Entscheidungsbaum eine Instanz $X_i$ klassifiziert, fängt man bei der Wurzel an und testet dann die Instanz nach dem ersten Kriterium $A_i$, zum Beispiel x_ij < 1, xij = 1 oder xij < 1. Abhängig vom Ergebnis wird sie dann an einem der Nachfolger von r weitergegeben. Da wird sie dann auf einem Entscheidungskriterium untersucht und weitergegeben. Dieser Vorgang wird so lange durchgeführt, bis die Instanz in einem Blatt angekommen ist. Dort enthält sie ein Klassenlabel yi. Dieser Weg, welchen die Instanz bis hier genommen hat, ist wie oben definiert ein Pfad.[Quelle](http://www.uni-wuerzburg.de/fileadmin/10030600/Mitarbeiter/Schwemmlein_Lena/20111207_Diplomarbeit_Lena_Schwemmlein_Data_Mining.pdf)\n",
    "\n",
    "### Eigenschaften/Struktur Zusammenfassung\n",
    "\n",
    "Ein Entscheidungsbaum besitzt folgende Eigenschaften.\n",
    "Ein Blatt $L_i$ repräsentiert einer der Klassen $C_i$ .\n",
    "Ein innerer Knoten repräsetiert ein Attribut.\n",
    "Eine Kante repräsentiert einen Test aus dem Attribut des Vaterknotens. \n",
    "Wenn man davon ausgeht, dass man nur zwei Klassen hat, so repräsentiert der Entscheidungsbaum eine boolische Funktion.[Quelle](www.inf.fh.rhein-sieg.de/)\n",
    "Die Konstruktion eines Entscheidungsbaums erfolgt anhand der Trainingsmenge. Die Anwendung eines Entscheidungsbaums erfolgt beim Durchlauf des Entscheidungsbaums von der Wurzel zu einem der Blätter --> eindeutiger Pfad. Zuordnung des Objektes zur Klasse des erreichten Blatts. [Quelle](www.dbs.ifi.lmu.de)\n",
    "\n",
    "\n",
    "\n",
    "### Basis-Algorithmus\n",
    "Am Anfang gehören alle Trainingsdatensätze zur Wurzel. Dann wird das nächste Attribut ausgewählt (Splitstrategie). Unter Nutzung des Splitattributs werden die Trainingsdatensätze partitioniert. Für die Partitionen wird das Verfahren rekursiv fortgestzt. --> lokal optimierter Algorithmus [Quelle](www.dbs.ifi.lmu.de)\n",
    "### Abbruchbedingungen\n",
    "Es gibt keine weiteren Splitattribute. Alle Trainingsdatensätze eines Knotens gehören zur selben Klasse. [Quelle](www.dbs.ifi.lmu.de)\n",
    "\n",
    "## Fehlerrate\n",
    "Unter der Fehlerrate eines Entscheidungsbaums versteht man die Anzahl der inkorrekt klassifizierten Datenobjekte in dem Verhältnis zu allen Datenobjekten eines Datensatzes. Die Zahl wird auf den verwendeten Trainingsdaten disjunkten Mengen an klassifizierten Datenobjekten ermittelt.\n",
    "\n",
    "## Splitstrategien\n",
    "Da die Entscheidungsbäume zu den überwachten Methoden gezählt werden, existiert eine Zielvariable Yi. Es kommt bei der Induktion von Entscheidungsbäumen i.d.R ein gieriger (greedy) Algorithmus  zum Einsatz. Es handelt sich dabei um Algorithmen wie das Gradientenverfahren. Diese wählen schrittweise den Folgezustand aus. Dieser entspricht zu derzeitigen Zeitpunkt den größten Gewinn. Meistens finden gierige Algorithmen nicht die optimale Lösung, aber sie arbeiten dafür schnell. Zu den Hauptaufgaben von Entscheidungsbäumen werden die Auswahl eines geeigneten Attributs als Entscheidungskriteriums und die Endgröße des Baumes gezählt.\n",
    "###  Kategorische Splits\n",
    "Splitbedinungen der Form \"Attribut = a\" oder \"Arttribut a ∈ set\", viele mögliche Teilmengen\n",
    "\n",
    "### Numerische Splits\n",
    "Splitbedingungen der Form \"Attribut < a\", viele mögliche Splitpunkte\n",
    "\n",
    "<!---\n",
    "![SplitPivottabelle](img/Attribute.png)\n",
    "--->\n",
    "<img src=\"img/Attribute.png\" width=\"1000\">\n",
    "\n",
    "\n",
    "### Informationsgewinn (information gain)\n",
    "Der Informationsgewinn basiert aus der Informationstheorie. Diese beschäftigt sich mit dem Wert oder Informationsgehalt von Nachrichten. Das Ziel ist es, im Knoten v das Attribut zu finden. Mit dessen Hilfe erhält man bei einer Teillung den maximalen Infomationsgewinn.\n",
    "\n",
    "$Definition:$ Die Entropie oder Information einer Menge v wird folgendermaßen definiert:\n",
    "$$\n",
    "\\begin{gather}\n",
    "Info(v):= -\\sum_{k=1}^k  pk * log_2 \\tag{2} (pk)\\\\\n",
    "\\end{gather}\n",
    "$$\n",
    "\n",
    "pk stellt die Wahrscheineinlichkeit dar, und zwar dass eine beliebige Instanz $X_i$ der Klasse $c_k$ angehört. und kann durch $|k_v|$/$|v|$ mit: \n",
    "\n",
    "\n",
    "$$\n",
    "\\begin{gather}\n",
    "|k_v|:= \\sum_{k=1}^n I(X_i ∈ v \\wedge X_i ∈ C_k) \n",
    "\\end{gather}\n",
    "$$\n",
    "\n",
    "aus den Daten geschätzt werden. Es wird die logarithmische Funktion zur Basis 2 benutzt, aus dem Grund, da Information in bits kodiert. Wir nehmen an, dass man die Instanzen in $\\mathcal{v}$ mit Hilfe von einem diskret wertigen Attributs $A_j = { a_i, a_2,\\dots, a_w} $ aufteilen. Maximal können $\\mathcal{w}$ disjunkte Untermengen von $\\mathcal{v}$ gebildet werden, $\\mathcal{v_z} := { X_i element \\mathcal{v} | x_ij =a_z }, z = 1, \\dots, \\mathcal{w}$. Sie entsprechen den direkten Nachfolgern von $\\mathcal{v}$. \n",
    "\n",
    "$Definition:$ Sei $\\mathcal{v}$  eine Menge von Instanzen, und Info$\\mathcal{v}$ sei die zugehörige Information und $A_i$ ein Attribut. So ist dann die bedingte Entropie des Attributs $A_j$ folgendermaßen definiert:\n",
    "$$\n",
    "\\begin{gather}\n",
    "Info_Aj(\\mathcal{v}) := \\sum_{z=1}^w \\frac{|v_z|}{|v|} * Info( \\mathcal{v_z})\n",
    "\\end{gather}\n",
    "$$\n",
    "Folgender Term |$\\mathcal{v_z}$| / |$\\mathcal{v}$| agiert als das Gewicht der z-ten Teilmenge und zwar nach Aufteilung auf dem Attribut $A_j$. Umso kleiner die bedingte Entrophie des Attributs $A_j$, desto größer die Reinheit der Teilmenge.\n",
    "\n",
    "$Definition:$ Wenn die Information und die bedingte Entropie eines Attributs $A_j$ auf der Menge $\\mathcal{v}$\n",
    "gegeben sind, so ist dann der Informationsgewinn als die Differenz zwischen der Entropie des Elternknotens festgelegt und der bedingten Entropie der Kindknoten: \n",
    "$$\n",
    "\\begin{gather}\n",
    "Gain (A_j):= Info(\\mathcal{v}) - Info_Aj( \\mathcal{v})\n",
    "\\end{gather}\n",
    "$$\n",
    "Als Teilungsattribut im Knoten $\\mathcal{v}$ wird das Attribut Aj mit dem höchsten Informationsgewinn gewählt. Es gilt hierbei arg $max_j$ Gain(Aj) = arg $min_j$ $Info_Aj(\\mathcal{v}$). In dem Fall, wenn das Attribut Aj stetig ist, dann können anstatt der Teilungspunkte betrachtet werden. Man erhält mit einer festen Zahl $\\mathcal{w}$ Teilmengen der Form\n",
    "\n",
    "$$\n",
    "\\begin{gather}\n",
    "\\mathcal{v_z} := {{X_i ∈ \\mathcal{v} | P_z-1 < x_ij ≤ P_z}}, \\mathcal{z} =1,\\dots , \\mathcal{w}.\n",
    "\\end{gather}\n",
    "$$\n",
    "\n",
    "### Gewinnquotient\n",
    "Der Informationsgewinn bevorzugt Attribute mit einer großen Wertmenge. Daher wurde als Erweiterung der Gewinnquotient (gain ratio) eingeführt. Hierzu wird eine Art Normalisierung in Form von einer Teilungsinformation (split information) auf den Informationsgewinn angewandt. Sie ist empfindlich, wie breit und uniform das Attribut die Trainingsdaten teilt.\n",
    "\n",
    "$Definition:$ Die Teilungsmenge einer Menge ist die potentielle Information, welche durch die Teilung einer Menge $\\mathcal{v}$ in $\\mathcal{w}$ disjunkte Teilmengen erzeugt wird.\n",
    "\n",
    "$$\n",
    "\\begin{gather}\n",
    "SplitInfo _Aj \\mathcal{v} := - \\sum_{z=i}^w \\frac{1}{|v_z| \\ |v|} * log_2 (\\|v_z| \\ |v|)\\\\.\n",
    "\\end{gather}\n",
    "$$\n",
    "\n",
    "$Definition:$ Der Gewinnquotient ist folgendermaßen definiert:\n",
    "\n",
    "$GainRatio(A_j)$:= $Gain(A_j$) \\ $SplitInfo A_j$( $\\mathcal{v}$)\n",
    "Als Teilungsattribut wird das Attribut mit dem maximalen Gewinnquotient ausgewählt. Der Quotient wird instabil, wenn die Teilungsinformation sehr klein wird. Das kann verhindert werden, wenn man für das ausgewählte Attribut\n",
    "\n",
    "\\begin{gather}\n",
    "Gain(A_j):= max Gain(A_j'), j' = 1, \\dots, m\n",
    "\\end{gather}\n",
    "\n",
    "fordert. Der Gewinnquotient bevorzugt Teilmengen, bei denen die entstehenden Nachfolgknoten eine sehr unterschiedliche Größe haben. Der Gewinn-Quotient kommt in dem Entscheidungsbumverfahren C4.5 zum Einsatz.\n",
    "\n",
    "\n",
    "\n",
    "### Gini-Index\n",
    "\n",
    "Der Gini-Index ist ein weiteres Kriterium zur Teilung von Mengen $\\mathcal{v}$. Er ermöglicht im Gegensatz zu den bisherigen Kriterien nur binäre Teilmengen.\n",
    "\n",
    "$Definition:$ Der Gini-Index misst die Urenheit einer Menge $\\mathcal{v}$ als\n",
    "\n",
    "$$\n",
    "\\begin{gather}\n",
    "Gini(\\mathcal{v}):= 1 -\\sum_{k=1}^k  p^2_k \\\\\n",
    "\\end{gather}\n",
    "$$\n",
    "\n",
    "$\\mathcal{p_k}$: stellt hier auch wieder die Wahrscheinlichkeit dar, welches eine Instanz aus $\\mathcal{v}$ der Klasse $\\mathcal{C_k}$ angehört. Es kann durch |k_v|/|v| aus den Daten geschätzt werden. Es sei ein diskret-wertiges Attribut $\\mathcal{A_J}$ = {$ a_1, a_2, \\dots, a_w $} gegeben. Damit man die beste Binärteilung auf $\\mathcal{A_j}$ findet, untersucht man alle 2^w möglichen Teilmengen $\\mathcal{T_Aj}$ ⊆  $\\mathcal{A_j}$. Je zwei mögliche disjunkte Nachfolger von $\\mathcal{v}$ sind definiert als $\\mathcal{v_1}:=$ {$X_i$  ∈ $\\mathcal{v}$ | $x_ij ∉ T_Aj$} und $\\mathcal{v_2}$:= {$X_i$ ∈ $\\mathcal{v}$|$x_ij ∉ T_Aj$}. Wenn das Attribut stetig ist, untersucht man analog zum Informationsgewinn alle möglichen Teilungspunkte $\\mathcal{P}$. Die Untermengen sind in dem Fall definiert als  $\\mathcal{v_1}$:= {$X_i$ ∈ $\\mathcal{v}$|$x_ij ≤ $\\mathcal{P}$ und  $\\mathcal{v_2}$:= {$X_i$ ∈ $\\mathcal{v}$|$x_ij > $\\mathcal{P}$}\n",
    "\n",
    "\n",
    "\n",
    "\n",
    "## Pruning\n",
    "Der größte Vorteil von Entscheidungsbäumen ist in der Wissenspräsentation. Es kann zu Problemen kommen, wenn sie wegen ihrer großen Datenmengen und vieler Entscheidungskriterien unübersichtlich werden. Um diese Probleme zu beheben, wurden Algorithmen entwickelt. Diese verhindern, dass Entscheidungsbäume zu stark anwachsen und damit ihre Verständlichkeit verlieren. Die Algorithmen arbeiten mit sogenannten Pruning-Verfahren.\n",
    "\n",
    "Zu den Teilungskriterien muss man noch ein weiteres Problem betrachten. Wenn man den Baum bis zur vollständigen korrekten Klassifikation wachsen lässt, dann ist das Modell wahrscheinlich zu gut an die Trainingsdaten und an ihre jeweilige Verzerrung angepasst. Man kann mit neuen Daten weniger umgehen. Um dieses Problem zu verhindern, kann man den Baum zurückschneiden. Dies wird auch Pruning genannt. Der Baum wird dann entweder nicht vollständig oder wieder verkleinert. Einige Entscheidungsknoten, welche nur einen kleinen Anteil an der Klassifikationsgüte haben, werden entfernt. Das Pruining löst das Problem des Overfittings aus. Der Entscheidungsbaum würde dadurch seine Generalisierung für die Anwendung verlieren. Man unterscheidet zwischen $Prepruning$ und $Postpruning$. Bei dem Prepruning wird die weitere Teilung von Knoten durch Haltekriterien verhindert. Wenn der Wert des Teilungskriteriums eine zuvor festgelegte Schranke unterschreitet, dann endet der Teilungsalgorithmus an dieser Stelle. Der betroffene Knoten wird dann zum Blatt. Die Wahl eines Grenzwertes ist problematisch, weil ein zu hoher Wert einen stark vereinfachten Baum entstehen lassen kann. Ein zu geringer Wert trägt hingegen zu wenig zu einer Vereinfachung bei.\n",
    "\n",
    "## Attribut-Auswahlverfahren \n",
    "\n",
    "\n",
    "#### ID3\n",
    "\n",
    "\n",
    "\n",
    "Der [ID3-Algorithmus](http://www.optiv.de/Methoden/KlassMet/index.htm?16) \n",
    "(Interative Dichotomiser 3) ist eines der beliebtesen Designs der Entscheidungsbäume und wurde von Ross Quinlan entwickelt. ID3 ist ein rekursiver Top-Down-Algorithmus, der zur Konstruktion von Entscheidungsbäumen eingesetzt wird. Die hohe Sensibilität für fehlerhafte und widersprüchliche Daten, ist das größte Problem des Algorithmus. Dies hat Fehlklassifikationen zur Folge.\n",
    "[ID3](https://www2.informatik.hu-berlin.de/~brueckne/ebl.pdf) sucht zuerst für die Wurzel die wichtigste Eigenschaft, die mit dem höchsten Information Gain. Dies stellt den Zuwachs des Informationsgehaltes dar, welches das jeweilige Entscheidungsproblem beinhaltet. So erstellt ID3 weitere Knoten des Baums. Das Verfahren ist bekannt unter Greedy Search (gierige Suche). Von der Wurzel bis zu den Blättern wird ein Entscheidungsbaum gezeichnet. Das Verfahren wird top-down genannt. Würde man von den Blättern zur Wurzel gehen, würde man vom gegensätzlichen Verfahren, dem buttom-up, sprechen. In diesem Algorithmus ist Backtracking nicht vorgesehen. Wenn ID3 einen neuen Knoten im Baum bestimmt,  so ist die Entschiedung unumkehrbar.\n",
    "\n",
    "\n",
    "\n",
    "\n",
    "\n",
    "#### C4.5 \n",
    "C4.5 wurde als Erweiterung des ID3-Algorithmus entwickelt und ist der beliebteste Entscheidungsbaum-Algorithmus neben Chart. C4.5 wird verwendet, um aus Trainingsdaten einen Entscheidungsbaum zu erzeugen, mit welchem Datensätze klassifiziert werden können. Dieser wird zur Extrahtion von Regeln aus dem Entscheidungsbaum verwendet. Dieses erstellt nach dem Top-Down-Prinzip rekursiv einen Entscheidungsbaum. Es wird allgemein mit dem gesamten Datensatz $\\mathcal{D}$ begonnen und dieser wird dann immer weiter nach folgenden Schema ablaufen:\n",
    "\n",
    "\n",
    "Dieser [Algorithmus](https://de.wikipedia.org/wiki/C4.5) verhält sich ähnlich wie der Cart-Algorithmus, welcher im nachfolgenden Abschnitt erläutert wird. Bei C4.5 muss keine binäre Aufteilung erfolgen, sondern es kann eine beliebige Anzahl von Verzweigungen eingebaut werden und der Baum wird breiter. Meist ist er weniger tief als der korrespondierende CART-Baum, welcher im Nachfolgenden erläuert wird.\n",
    "Ein weiterer Unterschied zeigt sich beim sogenannten Pruning, das Stutzen des Baumes. CART erzeugt einige Subtrees und testet diese mit neuen Daten, welche vorher noch nicht klassifiziert wurden. C4.5  beschneidet den Baum ohne Beachtung der gegebenen Datenbasis.\n",
    "Aus Trainingsdaten generiert C4.5 einen Entscheidungsbaum. Mit diesem können zukünftige Instanzen, welche nicht in den Trainingsdaten enthalten sind, klassifiziert werden. Es wird wie bei dem ID3 Algorithmus, die Berechnung der Entrophie verwendet. Dies wird durchgeführt, um die Reihenfolge der Entscheidungsknoten in deren Abstand zum Wurzelknoten innerhalb des zu generierbaren Entscheidungsbaums bestimmen zu können.\n",
    "\n",
    "\n",
    "\n",
    "\n",
    "\n",
    "#### CART\n",
    "[CART](https://de.wikipedia.org/wiki/CART_(Algorithmus) ist ein weiteres Entscheidungsbaum-Verfahren. Der Algorithmus wurde 1984 von Leo Breiman et al. publiziert. Hierbei handelt es sich um einen binären, rekursiven Partitionsalgorithmus. Er kann mit stetigen Attributen und mit Zielvariablen umgehen. Ohne Prepurning wird der Entscheidungsbaum entwickelt. Anschließend wird er mit Hilfe des Kosten-Komplexitäts-Kriteriums zurückgeschnitten. \n",
    "\n",
    "Es können nur Binärbäume erzeugt werden. An jeder Verzweigung können immer nur genau zwei Äste vorkommen. Das Finden der optimalen binären Trennung ist das Hauptelement dieses Algorithmus.\n",
    "\n",
    "Die Attributsauswahl wird durch die Maximierung des Informationsgehaltes gesteuert. Die Daten in Bezug auf die Klassifikation trennen sich optimal. Dies wird mit einem Schwellwert erreicht, welcher zu jedem Attribut gesucht wird. Der Informationsgehalt eines Attributs wird als hoch angesehen, wenn durch die Auswertung der sich aus der Teilung über die Schwellwerte ergebenden Attributausprägungen mit einer hohen Trefferquote eine Klassifikation vorgenommen werden kann.  Bei Entscheidungsbäumen, berechnet aus dem Cart-Algorithmus, gilt je höher der Informationsgehalt eines Attributs in Bezug auf die Zielgröße ist, desto weiter oben im Baum befindet sich dieses Attribut. Durch die Optimierung der Spaltenentrophie ergeben sich jeweils die Entscheidungsschwellwerte. Durch ein gewichtetes Mittel aus den Splatenentropien ergeben sich die Gesamtentropien.\n",
    "\n",
    " \n",
    "\n",
    "\n",
    "## Entscheidungsbaum und Regeln\n",
    "Sie repräsentieren Regeln in kompakter Form. Jeder Pfad von der Wurzel zu einem Blattknoten entspricht einer logischen Formel in der Form von einer If-then-Regel.\n",
    "\n",
    "Beispiel:\n",
    "\n",
    "\n",
    "\n",
    "ID |  Alter |  Autotyp |  Risikoklasse | \n",
    "  :--------:|:--------------: | :---------: |:----------:| \n",
    "      1     |       20     |      Familienwagen      |   hoch   |                    \n",
    "      2     |       19    |      Sportwagen     |   hoch  |                         \n",
    "      3     |      42     |      Sportwagen     |   hoch   |                       \n",
    "      4     |       60     |      Familienwagen      |   niedrig   |                        \n",
    "      5     |       30    |      LKW    |  niedrig   |                        \n",
    "                   \n",
    "      \n",
    " if Autotyp = LKW then Risikoklasse = niedrig \n",
    " \n",
    " if Autotyp != LKW and Alter > 50 then Risikoklasse = niedrig,\n",
    " \n",
    " if Autotyp != LKW and Alter <= 50 then Risikoklasse = hoch.\n",
    "\n"
   ]
  },
  {
   "cell_type": "markdown",
   "metadata": {},
   "source": [
    "\n"
   ]
  },
  {
   "cell_type": "markdown",
   "metadata": {
    "collapsed": true
   },
   "source": [
    "# Anwendung\n",
    "\n",
    "## Entscheidungsbaum mit R\n",
    "Wir wechseln nun in das Notebook:\n",
    "\n",
    "- '2017-11-24_RK_Entscheisungsbäume_R' \n",
    "\n",
    "und schauen uns das Beispiel eines Entscheidungsbaums in R an. Hier wird der in R vorhandene Datensatz $Kyphosis$ verwendet.\n",
    "\n",
    "\n",
    "\n"
   ]
  },
  {
   "cell_type": "markdown",
   "metadata": {},
   "source": [
    "## Entscheidungsbäume in Python\n",
    "Für unsere Textklassifikation verwenden wir das Paket [scikit-learn](http://scikit-learn.org/). Dieses Paket stellt zahlreiche Verfahren des [maschinellen Lernens](https://de.wikipedia.org/wiki/Maschinelles_Lernen) zur Verfügung."
   ]
  },
  {
   "cell_type": "markdown",
   "metadata": {},
   "source": [
    "\n",
    "### Beispiel 1:\n",
    "[Datensatz: Balance-Scale](https://dataaspirant.com/2017/02/01/decision-tree-algorithm-python-with-scikit-learn/)\n",
    "#### 'Decision Tree classifier 'Implementation in Python mit sklearn Library\n",
    "Zunächst importieren wir die benötigten Bibliotheken. Wir importieren 'numpy', sklearn 'train_test_split', 'DecisionTreeClassifier' und 'accuracy_score' modules.\n",
    "- Numpy arrays und Pandas Dataframes helfen uns die Daten zu manipulieren. \n",
    "- Die Methode Train_test_split() teilt uns den Datensatz in einen Taining- und in einen Testsatz. \n",
    "- Das 'tree' Module wird benötigt, um den Decision Tree Clasifier anzuwenden.\n",
    "- Accuacy_score Module wird benötigt, um die Genauigkeit von der vorhersagenden Klassenvariablen zu berechnen.\n"
   ]
  },
  {
   "cell_type": "code",
   "execution_count": 3,
   "metadata": {},
   "outputs": [
    {
     "name": "stderr",
     "output_type": "stream",
     "text": [
      "D:\\Programme\\ana\\lib\\site-packages\\sklearn\\cross_validation.py:41: DeprecationWarning: This module was deprecated in version 0.18 in favor of the model_selection module into which all the refactored classes and functions are moved. Also note that the interface of the new CV iterators are different from that of this module. This module will be removed in 0.20.\n",
      "  \"This module will be removed in 0.20.\", DeprecationWarning)\n"
     ]
    }
   ],
   "source": [
    "import numpy as np\n",
    "import pandas as pd\n",
    "from sklearn.cross_validation import train_test_split\n",
    "from sklearn.tree import DecisionTreeClassifier\n",
    "from sklearn.metrics import accuracy_score\n",
    "from sklearn import tree"
   ]
  },
  {
   "cell_type": "markdown",
   "metadata": {},
   "source": [
    "#### Daten importieren\n",
    "Wir lesen unseren Datensatz 'Balance-Scale' als csv Datei ein. Dazu benutzen Pandas read_csv() Methode, um die Daten in Pandas Dataframe zu importieren.\n",
    "Da unsere Daten in der csv-Datei per Komma ',' getrennt sind, ist keine Kopfzeile (header) in unseren Daten vorhanden. Daher setzten wir den Kopfzeilen Parameter Wert auf 'None' und sep Parameter Wert auf ','. Unsere Daten werden in dem Dataframe 'bance_data' gespeichert.\n"
   ]
  },
  {
   "cell_type": "code",
   "execution_count": 4,
   "metadata": {
    "collapsed": true
   },
   "outputs": [],
   "source": [
    "balance_data = pd.read_csv(\"data/Balance-Scale.csv\", sep= ',', header= None)"
   ]
  },
  {
   "cell_type": "markdown",
   "metadata": {},
   "source": [
    "Um die Länge und die Dimensionen unseres Dataframes zu überprüfen, verwenden wir die len() Methode und '.shape'"
   ]
  },
  {
   "cell_type": "code",
   "execution_count": 5,
   "metadata": {},
   "outputs": [
    {
     "name": "stdout",
     "output_type": "stream",
     "text": [
      "Dataset Lenght\n",
      "Dataset Shape\n"
     ]
    },
    {
     "data": {
      "text/plain": [
       "(None, (625, 5))"
      ]
     },
     "execution_count": 5,
     "metadata": {},
     "output_type": "execute_result"
    }
   ],
   "source": [
    "print(\"Dataset Lenght\"), len(balance_data)\n",
    "print(\"Dataset Shape\"), balance_data.shape"
   ]
  },
  {
   "cell_type": "markdown",
   "metadata": {},
   "source": [
    "Mit der Methode Head() geben wir nun die ersten 5 Zeilen aus."
   ]
  },
  {
   "cell_type": "code",
   "execution_count": 19,
   "metadata": {},
   "outputs": [
    {
     "name": "stdout",
     "output_type": "stream",
     "text": [
      "Dataset\n"
     ]
    },
    {
     "data": {
      "text/html": [
       "<div>\n",
       "<style>\n",
       "    .dataframe thead tr:only-child th {\n",
       "        text-align: right;\n",
       "    }\n",
       "\n",
       "    .dataframe thead th {\n",
       "        text-align: left;\n",
       "    }\n",
       "\n",
       "    .dataframe tbody tr th {\n",
       "        vertical-align: top;\n",
       "    }\n",
       "</style>\n",
       "<table border=\"1\" class=\"dataframe\">\n",
       "  <thead>\n",
       "    <tr style=\"text-align: right;\">\n",
       "      <th></th>\n",
       "      <th>0</th>\n",
       "      <th>1</th>\n",
       "      <th>2</th>\n",
       "      <th>3</th>\n",
       "      <th>4</th>\n",
       "    </tr>\n",
       "  </thead>\n",
       "  <tbody>\n",
       "    <tr>\n",
       "      <th>0</th>\n",
       "      <td>B</td>\n",
       "      <td>1</td>\n",
       "      <td>1</td>\n",
       "      <td>1</td>\n",
       "      <td>1</td>\n",
       "    </tr>\n",
       "    <tr>\n",
       "      <th>1</th>\n",
       "      <td>R</td>\n",
       "      <td>1</td>\n",
       "      <td>1</td>\n",
       "      <td>1</td>\n",
       "      <td>2</td>\n",
       "    </tr>\n",
       "    <tr>\n",
       "      <th>2</th>\n",
       "      <td>R</td>\n",
       "      <td>1</td>\n",
       "      <td>1</td>\n",
       "      <td>1</td>\n",
       "      <td>3</td>\n",
       "    </tr>\n",
       "    <tr>\n",
       "      <th>3</th>\n",
       "      <td>R</td>\n",
       "      <td>1</td>\n",
       "      <td>1</td>\n",
       "      <td>1</td>\n",
       "      <td>4</td>\n",
       "    </tr>\n",
       "    <tr>\n",
       "      <th>4</th>\n",
       "      <td>R</td>\n",
       "      <td>1</td>\n",
       "      <td>1</td>\n",
       "      <td>1</td>\n",
       "      <td>5</td>\n",
       "    </tr>\n",
       "  </tbody>\n",
       "</table>\n",
       "</div>"
      ],
      "text/plain": [
       "   0  1  2  3  4\n",
       "0  B  1  1  1  1\n",
       "1  R  1  1  1  2\n",
       "2  R  1  1  1  3\n",
       "3  R  1  1  1  4\n",
       "4  R  1  1  1  5"
      ]
     },
     "execution_count": 19,
     "metadata": {},
     "output_type": "execute_result"
    }
   ],
   "source": [
    "print(\"Dataset\")\n",
    "balance_data.head()"
   ]
  },
  {
   "cell_type": "markdown",
   "metadata": {},
   "source": [
    "#### Datenaufteilung"
   ]
  },
  {
   "cell_type": "markdown",
   "metadata": {},
   "source": [
    "Daten splicing ist ein Schritt um Daten in einen Trainings- und einen Testsatz einzuteilen. Der Trainingsdatensatz kann benutzt werden, um unser Model zu konstruieren. \n",
    "Der Datensatz teilt die Daten in feature set & target set. Der 'X' Satz besteht aus  Einflussvariablen. Er besteht aus Daten aus der zweiten Spalte. Wir benutzen '.values' von numpy, in dem wir unsere Dataframes in numpy arrays konvertieren."
   ]
  },
  {
   "cell_type": "code",
   "execution_count": 20,
   "metadata": {
    "collapsed": true
   },
   "outputs": [],
   "source": [
    "X = balance_data.values[:, 1:5]\n",
    "Y = balance_data.values[:,0]"
   ]
  },
  {
   "cell_type": "markdown",
   "metadata": {},
   "source": [
    "Wir splitten unsere Daten in einen Trainings- und einen Testsatz und benutzten hierfür die Methode  train_test_split(). X_train, Y_train sind Trainingssätze und X_test, X_test sind Testsätzte.\n",
    "Der Parameter Test_size erhält einen Wert von 0.3. Das bedeutet, dass der Testsatz 30% des kompletten Datensatzes enthält. Der Trainingsdatensatz hat eine Größe von 70% des kompletten Datensatzes. Die random_state Variable ist eine pseudozufällige Nummer (gegerator state), welche für zufällige Stichproben verwendet wird. "
   ]
  },
  {
   "cell_type": "code",
   "execution_count": 21,
   "metadata": {
    "collapsed": true
   },
   "outputs": [],
   "source": [
    "X_train, X_test, y_train, y_test = train_test_split( X, Y, test_size = 0.3, random_state = 100)"
   ]
  },
  {
   "cell_type": "markdown",
   "metadata": {},
   "source": [
    "#### Klassifikationsbaum Training"
   ]
  },
  {
   "cell_type": "markdown",
   "metadata": {},
   "source": [
    "Wir wenden nun den \"DecisionTree\" Algorithmus an unserem Trainingsdatensatz an und prognostizieren Labels für den validierenden Datensatz und die Genauigkeit des Modells, indem wir verschiendene Parameter benutzen.\n",
    "\n",
    "--- $DecisionTreeClassifier():$ Das ist die Klassifikatorfunktion für DecisionTrees. Es ist die Hauptfunktion für diesen Agorithmus. Im Folgenden werden ein paar wichtige Parameter aufgelistet:\n",
    "\n",
    "- $criterion:$ Diese definiert die Funktion um die Qualität einer Aufteilung zu ermitteln. Sklearn unterstützt die gini' Kriterien für den Gini-Index und die Entropy für den Informationsgewinn. Bei 'Default', wird der Gini-Wert genommen.\n",
    "\n",
    "    \n",
    "- $splitter:$ definiert die Strategie, um die Spaltung an jedem Knoten zuwählen. $'best'$, wird verwendet um die beste Aufteilung zu wählen . $'Random'$ wird verwendet, um die beste zufällige Aufteilung zuwählen.  Bei $Default$ wird der 'best' Wert verwendet.\n",
    "\n",
    "\n",
    "- **max_features:** Definiert die Nummer der Eigenschaften, wenn man die beste Aufteilung anschaut. Wir können integer, float, string, und 'None' Wert verwenden.\n",
    "\n",
    "            If an integer is inputted then it considers that value as max features at each split.\n",
    "            If float value is taken then it shows the percentage of features at each split.\n",
    "            If “auto” or “sqrt” is taken then max_features=sqrt(n_features).\n",
    "            If “log2” is taken then max_features= log2(n_features).\n",
    "            If None, then max_features=n_features. By default, it takes “None” value.\n",
    "        \n",
    "- **max_depth:** Definiert die maximale Tiefe des Baumes. Es können jegliche integer Werte oder 'None' verwendet werden. Wenn 'None' verwendet wird, dann sind die Knoten erweitert bid alle Blätter unverfälscht sind oder alle Blätter weniger als Min_samples_split Stichprobe enthalten. Bei 'Default', wird enthält 'None' value.\n",
    "\n",
    "\n",
    "- **min_samples_split:** Die minimalste Anzahl der benötigten Stichproben, um den internen Knoten aufzuspalten. Wenn ein 'integer' Wert verwendet wird, dann überlegt man min_samples_split als minimalste Anzahl zu nehmen. Wenn 'float' verwendet wird, dann wird der Prozentsatz gezeigt.\n",
    "\n",
    "\n",
    "- **min_samples_leaf:** Die minimale Anzahl der benötigten Stichproben an einem Blattknoten. Falls ein 'integer' Wert verwendet wird, dann erwägt man min_samples_leaf als minimalste Anzahl zu verwenden. Wenn 'float' verwendet wurde, wird der Prozentsatz gezeigt. Bei 'Default', wird der Wert '1' genommen.\n",
    "\n",
    "\n",
    "- **max_leaf_nodes:** Definiert die maximale Anzahl der möglichen Blattknoten. Wenn 'None', dann wird eine unbegrenzte Anzahl an Blattknoten verwendet. Bei 'Default', wird der 'None' Wert verwendet.\n",
    "\n",
    "\n",
    "- **min_impurity_split:** Definiert die Grenze für das frühzeitige Stoppen des Baumwachstums. Ein Knoten wird geteilt, wenn seine Unreinheit über der Grenze ist, andernfalls ist es ein Baltt.\n",
    "\n"
   ]
  },
  {
   "cell_type": "markdown",
   "metadata": {},
   "source": [
    "Wir benutzen 'criterion' als Gini-Index und Informationsgewinn. Wir müssen unseren Klassifikator anpassen, indem wir fit() benutzen. "
   ]
  },
  {
   "cell_type": "code",
   "execution_count": 22,
   "metadata": {},
   "outputs": [
    {
     "data": {
      "text/plain": [
       "DecisionTreeClassifier(class_weight=None, criterion='gini', max_depth=3,\n",
       "            max_features=None, max_leaf_nodes=None,\n",
       "            min_impurity_decrease=0.0, min_impurity_split=None,\n",
       "            min_samples_leaf=5, min_samples_split=2,\n",
       "            min_weight_fraction_leaf=0.0, presort=False, random_state=100,\n",
       "            splitter='best')"
      ]
     },
     "execution_count": 22,
     "metadata": {},
     "output_type": "execute_result"
    }
   ],
   "source": [
    "clf_gini = DecisionTreeClassifier(criterion = \"gini\", random_state = 100,\n",
    "                               max_depth=3, min_samples_leaf=5)\n",
    "clf_gini.fit(X_train, y_train)\n"
   ]
  },
  {
   "cell_type": "markdown",
   "metadata": {},
   "source": [
    "#### 'Decision Tree Classifier' mit  dem Kriterium Informationsgewinn"
   ]
  },
  {
   "cell_type": "code",
   "execution_count": 23,
   "metadata": {},
   "outputs": [
    {
     "data": {
      "text/plain": [
       "DecisionTreeClassifier(class_weight=None, criterion='entropy', max_depth=3,\n",
       "            max_features=None, max_leaf_nodes=None,\n",
       "            min_impurity_decrease=0.0, min_impurity_split=None,\n",
       "            min_samples_leaf=5, min_samples_split=2,\n",
       "            min_weight_fraction_leaf=0.0, presort=False, random_state=100,\n",
       "            splitter='best')"
      ]
     },
     "execution_count": 23,
     "metadata": {},
     "output_type": "execute_result"
    }
   ],
   "source": [
    "clf_entropy = DecisionTreeClassifier(criterion = \"entropy\", random_state = 100,\n",
    " max_depth=3, min_samples_leaf=5)\n",
    "clf_entropy.fit(X_train, y_train)"
   ]
  },
  {
   "cell_type": "markdown",
   "metadata": {},
   "source": [
    "#### Prediction"
   ]
  },
  {
   "cell_type": "markdown",
   "metadata": {},
   "source": [
    "Wir haben jetzt zwei Klassifikatoren geformt. Ein Klassifikator mit dem Gini-Index und den anderen mit dem Informaionsgewinn als Kriterium.  Wir können nun Voraussagen für unseren Datensatz treffen, Dazu benutzen wir die Methode =predict()"
   ]
  },
  {
   "cell_type": "code",
   "execution_count": 24,
   "metadata": {},
   "outputs": [
    {
     "data": {
      "text/plain": [
       "array(['R'], dtype=object)"
      ]
     },
     "execution_count": 24,
     "metadata": {},
     "output_type": "execute_result"
    }
   ],
   "source": [
    "clf_gini.predict([[4, 4, 3, 3]])"
   ]
  },
  {
   "cell_type": "markdown",
   "metadata": {},
   "source": [
    "#### Prediction für 'Decision Tree classifier' mit dem Kriterim  Gini-index"
   ]
  },
  {
   "cell_type": "code",
   "execution_count": 25,
   "metadata": {},
   "outputs": [
    {
     "data": {
      "text/plain": [
       "array(['R', 'L', 'R', 'R', 'R', 'L', 'R', 'L', 'L', 'L', 'R', 'L', 'L',\n",
       "       'L', 'R', 'L', 'R', 'L', 'L', 'R', 'L', 'R', 'L', 'L', 'R', 'L',\n",
       "       'L', 'L', 'R', 'L', 'L', 'L', 'R', 'L', 'L', 'L', 'L', 'R', 'L',\n",
       "       'L', 'R', 'L', 'R', 'L', 'R', 'R', 'L', 'L', 'R', 'L', 'R', 'R',\n",
       "       'L', 'R', 'R', 'L', 'R', 'R', 'L', 'L', 'R', 'R', 'L', 'L', 'L',\n",
       "       'L', 'L', 'R', 'R', 'L', 'L', 'R', 'R', 'L', 'R', 'L', 'R', 'R',\n",
       "       'R', 'L', 'R', 'L', 'L', 'L', 'L', 'R', 'R', 'L', 'R', 'L', 'R',\n",
       "       'R', 'L', 'L', 'L', 'R', 'R', 'L', 'L', 'L', 'R', 'L', 'R', 'R',\n",
       "       'R', 'R', 'R', 'R', 'R', 'L', 'R', 'L', 'R', 'R', 'L', 'R', 'R',\n",
       "       'R', 'R', 'R', 'L', 'R', 'L', 'L', 'L', 'L', 'L', 'L', 'L', 'R',\n",
       "       'R', 'R', 'R', 'L', 'R', 'R', 'R', 'L', 'L', 'R', 'L', 'R', 'L',\n",
       "       'R', 'L', 'L', 'R', 'L', 'L', 'R', 'L', 'R', 'L', 'R', 'R', 'R',\n",
       "       'L', 'R', 'R', 'R', 'R', 'R', 'L', 'L', 'R', 'R', 'R', 'R', 'L',\n",
       "       'R', 'R', 'R', 'L', 'R', 'L', 'L', 'L', 'L', 'R', 'R', 'L', 'R',\n",
       "       'R', 'L', 'L', 'R', 'R', 'R'], dtype=object)"
      ]
     },
     "execution_count": 25,
     "metadata": {},
     "output_type": "execute_result"
    }
   ],
   "source": [
    "y_pred = clf_gini.predict(X_test)\n",
    "y_pred"
   ]
  },
  {
   "cell_type": "markdown",
   "metadata": {},
   "source": [
    "#### Prediction für 'Decision Tree classifier' mit dem Kriterium Informationsgewinn"
   ]
  },
  {
   "cell_type": "code",
   "execution_count": 26,
   "metadata": {},
   "outputs": [
    {
     "data": {
      "text/plain": [
       "array(['R', 'L', 'R', 'L', 'R', 'L', 'R', 'L', 'R', 'R', 'R', 'R', 'L',\n",
       "       'L', 'R', 'L', 'R', 'L', 'L', 'R', 'L', 'R', 'L', 'L', 'R', 'L',\n",
       "       'R', 'L', 'R', 'L', 'R', 'L', 'R', 'L', 'L', 'L', 'L', 'L', 'R',\n",
       "       'L', 'R', 'L', 'R', 'L', 'R', 'R', 'L', 'L', 'R', 'L', 'L', 'R',\n",
       "       'L', 'L', 'R', 'L', 'R', 'R', 'L', 'R', 'R', 'R', 'L', 'L', 'R',\n",
       "       'L', 'L', 'R', 'L', 'L', 'L', 'R', 'R', 'L', 'R', 'L', 'R', 'R',\n",
       "       'R', 'L', 'R', 'L', 'L', 'L', 'L', 'R', 'R', 'L', 'R', 'L', 'R',\n",
       "       'R', 'L', 'L', 'L', 'R', 'R', 'L', 'L', 'L', 'R', 'L', 'L', 'R',\n",
       "       'R', 'R', 'R', 'R', 'R', 'L', 'R', 'L', 'R', 'R', 'L', 'R', 'R',\n",
       "       'L', 'R', 'R', 'L', 'R', 'R', 'R', 'L', 'L', 'L', 'L', 'L', 'R',\n",
       "       'R', 'R', 'R', 'L', 'R', 'R', 'R', 'L', 'L', 'R', 'L', 'R', 'L',\n",
       "       'R', 'L', 'R', 'R', 'L', 'L', 'R', 'L', 'R', 'R', 'R', 'R', 'R',\n",
       "       'L', 'R', 'R', 'R', 'R', 'R', 'R', 'L', 'R', 'L', 'R', 'R', 'L',\n",
       "       'R', 'L', 'R', 'L', 'R', 'L', 'L', 'L', 'L', 'L', 'R', 'R', 'R',\n",
       "       'L', 'L', 'L', 'R', 'R', 'R'], dtype=object)"
      ]
     },
     "execution_count": 26,
     "metadata": {},
     "output_type": "execute_result"
    }
   ],
   "source": [
    "y_pred_en = clf_entropy.predict(X_test)\n",
    "y_pred_en"
   ]
  },
  {
   "cell_type": "markdown",
   "metadata": {},
   "source": [
    "####  Accuracy Score\n",
    "Die Funktion 'accuracy_score()' wird benutzt um die Genauigkeit des DecisionTree Algorithmus auszugeben. Mit der Genauigkeit (accuracy), wird das Verhältnis zwischen den richtig vorausberechneten Datenpunkten zu allen vorausberechnten Datenpunkten angegeben. 'Accuracy' ist eine Metrik, um die Effektivität des Algorithmus zu verstehen. Man unterscheidet zwischen vier Parameter:\n",
    "\n",
    "    y_true,\n",
    "    y_pred,\n",
    "    normalize,\n",
    "    sample_weight.\n",
    "\n",
    "\n",
    "    \n",
    "\n",
    "Zudem sind normalize & sample_weight optionale Parameter. Der Parameter y_true akzeptiert ein Array von korrekten  Labels und y_pred nimmt ein Array von vorhergesagten Labels, welche vom Klassifikator zurückgegeben werden. Accuracy wird als float-Wert zurückgegeben."
   ]
  },
  {
   "cell_type": "markdown",
   "metadata": {},
   "source": [
    "##### Accuracy für 'Decision Tree classifier' mit  dem Kriterium  Gini-Index"
   ]
  },
  {
   "cell_type": "code",
   "execution_count": 27,
   "metadata": {},
   "outputs": [
    {
     "name": "stdout",
     "output_type": "stream",
     "text": [
      "Accuracy is\n"
     ]
    },
    {
     "data": {
      "text/plain": [
       "(None, 73.40425531914893)"
      ]
     },
     "execution_count": 27,
     "metadata": {},
     "output_type": "execute_result"
    }
   ],
   "source": [
    "print('Accuracy is'), accuracy_score(y_test,y_pred)*100"
   ]
  },
  {
   "cell_type": "markdown",
   "metadata": {},
   "source": [
    "##### Accuracy für 'Decision Tree classifier' mit dem Kriterium Informationsgewinn (information gain)"
   ]
  },
  {
   "cell_type": "code",
   "execution_count": 28,
   "metadata": {},
   "outputs": [
    {
     "name": "stdout",
     "output_type": "stream",
     "text": [
      "Accuracy is\n"
     ]
    },
    {
     "data": {
      "text/plain": [
       "(None, 73.40425531914893)"
      ]
     },
     "execution_count": 28,
     "metadata": {},
     "output_type": "execute_result"
    }
   ],
   "source": [
    "print('Accuracy is'), accuracy_score(y_test,y_pred)*100"
   ]
  },
  {
   "cell_type": "markdown",
   "metadata": {},
   "source": [
    "#### Fazit (Datensatz: Balance-Scale)"
   ]
  },
  {
   "cell_type": "markdown",
   "metadata": {},
   "source": [
    "In folgendem Beispiel wurde gezeigt, wie der 'decision tree algorithm' in Python mit scikit-learn funktioniert.\n",
    "Es wurde gezeigt, wie man die Daten in den Trainings-und Testdatensatz aufteilt. Wir haben den Informationsgewinn \n",
    "(information gain), Gini-Index Aufteilungskriterien verwendet. Am Schluss, haben wir die Genauigkeit der zwei \n",
    "Entscheidungsbäume berechnet."
   ]
  },
  {
   "cell_type": "markdown",
   "metadata": {},
   "source": [
    "### Beispiel 2\n",
    "Datensatz Kyphosis (unser Datensatz besitzt in diesem Datensatz nur 12 Datensätze)\n",
    "\n",
    "Wir importieren zunächst die benötigten Bibliotheken. "
   ]
  },
  {
   "cell_type": "code",
   "execution_count": 5,
   "metadata": {
    "collapsed": true
   },
   "outputs": [],
   "source": [
    "#https://www.youtube.com/watch?v=0cGOwjmYL4s\n",
    "\n",
    "import pandas as pd\n",
    "import numpy as np\n",
    "import matplotlib.pyplot as plt\n",
    "import seaborn as sns\n",
    "from sklearn.cross_validation import train_test_split  \n",
    "from sklearn.tree import DecisionTreeClassifier\n",
    "\n",
    "%matplotlib inline"
   ]
  },
  {
   "cell_type": "markdown",
   "metadata": {},
   "source": [
    "##### Daten imporieren\n",
    "In dem Beispiel importieren wir die erstellte Excel-Datei. Unser Datensatz enthält nur Werte vom Typ 'Integer'."
   ]
  },
  {
   "cell_type": "code",
   "execution_count": 17,
   "metadata": {},
   "outputs": [
    {
     "data": {
      "text/html": [
       "<div>\n",
       "<style>\n",
       "    .dataframe thead tr:only-child th {\n",
       "        text-align: right;\n",
       "    }\n",
       "\n",
       "    .dataframe thead th {\n",
       "        text-align: left;\n",
       "    }\n",
       "\n",
       "    .dataframe tbody tr th {\n",
       "        vertical-align: top;\n",
       "    }\n",
       "</style>\n",
       "<table border=\"1\" class=\"dataframe\">\n",
       "  <thead>\n",
       "    <tr style=\"text-align: right;\">\n",
       "      <th></th>\n",
       "      <th>Kyphosis</th>\n",
       "      <th>Age</th>\n",
       "      <th>Number</th>\n",
       "      <th>Start</th>\n",
       "    </tr>\n",
       "  </thead>\n",
       "  <tbody>\n",
       "    <tr>\n",
       "      <th>0</th>\n",
       "      <td>1</td>\n",
       "      <td>71</td>\n",
       "      <td>3</td>\n",
       "      <td>5</td>\n",
       "    </tr>\n",
       "    <tr>\n",
       "      <th>1</th>\n",
       "      <td>1</td>\n",
       "      <td>158</td>\n",
       "      <td>3</td>\n",
       "      <td>14</td>\n",
       "    </tr>\n",
       "    <tr>\n",
       "      <th>2</th>\n",
       "      <td>2</td>\n",
       "      <td>128</td>\n",
       "      <td>4</td>\n",
       "      <td>5</td>\n",
       "    </tr>\n",
       "    <tr>\n",
       "      <th>3</th>\n",
       "      <td>1</td>\n",
       "      <td>2</td>\n",
       "      <td>5</td>\n",
       "      <td>1</td>\n",
       "    </tr>\n",
       "    <tr>\n",
       "      <th>4</th>\n",
       "      <td>1</td>\n",
       "      <td>1</td>\n",
       "      <td>4</td>\n",
       "      <td>15</td>\n",
       "    </tr>\n",
       "    <tr>\n",
       "      <th>5</th>\n",
       "      <td>1</td>\n",
       "      <td>1</td>\n",
       "      <td>2</td>\n",
       "      <td>16</td>\n",
       "    </tr>\n",
       "    <tr>\n",
       "      <th>6</th>\n",
       "      <td>1</td>\n",
       "      <td>61</td>\n",
       "      <td>2</td>\n",
       "      <td>17</td>\n",
       "    </tr>\n",
       "    <tr>\n",
       "      <th>7</th>\n",
       "      <td>1</td>\n",
       "      <td>37</td>\n",
       "      <td>3</td>\n",
       "      <td>16</td>\n",
       "    </tr>\n",
       "    <tr>\n",
       "      <th>8</th>\n",
       "      <td>1</td>\n",
       "      <td>113</td>\n",
       "      <td>2</td>\n",
       "      <td>16</td>\n",
       "    </tr>\n",
       "    <tr>\n",
       "      <th>9</th>\n",
       "      <td>2</td>\n",
       "      <td>59</td>\n",
       "      <td>6</td>\n",
       "      <td>12</td>\n",
       "    </tr>\n",
       "    <tr>\n",
       "      <th>10</th>\n",
       "      <td>2</td>\n",
       "      <td>82</td>\n",
       "      <td>5</td>\n",
       "      <td>14</td>\n",
       "    </tr>\n",
       "    <tr>\n",
       "      <th>11</th>\n",
       "      <td>1</td>\n",
       "      <td>148</td>\n",
       "      <td>3</td>\n",
       "      <td>16</td>\n",
       "    </tr>\n",
       "    <tr>\n",
       "      <th>12</th>\n",
       "      <td>1</td>\n",
       "      <td>18</td>\n",
       "      <td>5</td>\n",
       "      <td>2</td>\n",
       "    </tr>\n",
       "  </tbody>\n",
       "</table>\n",
       "</div>"
      ],
      "text/plain": [
       "    Kyphosis  Age   Number  Start\n",
       "0          1    71       3      5\n",
       "1          1   158       3     14\n",
       "2          2   128       4      5\n",
       "3          1     2       5      1\n",
       "4          1     1       4     15\n",
       "5          1     1       2     16\n",
       "6          1    61       2     17\n",
       "7          1    37       3     16\n",
       "8          1   113       2     16\n",
       "9          2    59       6     12\n",
       "10         2    82       5     14\n",
       "11         1   148       3     16\n",
       "12         1    18       5      2"
      ]
     },
     "execution_count": 17,
     "metadata": {},
     "output_type": "execute_result"
    }
   ],
   "source": [
    "Baum = pd.read_excel('test.xls', 'Tabelle1')\n",
    "Baum"
   ]
  },
  {
   "cell_type": "code",
   "execution_count": 18,
   "metadata": {},
   "outputs": [
    {
     "data": {
      "text/html": [
       "<div>\n",
       "<style>\n",
       "    .dataframe thead tr:only-child th {\n",
       "        text-align: right;\n",
       "    }\n",
       "\n",
       "    .dataframe thead th {\n",
       "        text-align: left;\n",
       "    }\n",
       "\n",
       "    .dataframe tbody tr th {\n",
       "        vertical-align: top;\n",
       "    }\n",
       "</style>\n",
       "<table border=\"1\" class=\"dataframe\">\n",
       "  <thead>\n",
       "    <tr style=\"text-align: right;\">\n",
       "      <th></th>\n",
       "      <th>Kyphosis</th>\n",
       "      <th>Age</th>\n",
       "      <th>Number</th>\n",
       "      <th>Start</th>\n",
       "    </tr>\n",
       "  </thead>\n",
       "  <tbody>\n",
       "    <tr>\n",
       "      <th>0</th>\n",
       "      <td>1</td>\n",
       "      <td>71</td>\n",
       "      <td>3</td>\n",
       "      <td>5</td>\n",
       "    </tr>\n",
       "    <tr>\n",
       "      <th>1</th>\n",
       "      <td>1</td>\n",
       "      <td>158</td>\n",
       "      <td>3</td>\n",
       "      <td>14</td>\n",
       "    </tr>\n",
       "    <tr>\n",
       "      <th>2</th>\n",
       "      <td>2</td>\n",
       "      <td>128</td>\n",
       "      <td>4</td>\n",
       "      <td>5</td>\n",
       "    </tr>\n",
       "    <tr>\n",
       "      <th>3</th>\n",
       "      <td>1</td>\n",
       "      <td>2</td>\n",
       "      <td>5</td>\n",
       "      <td>1</td>\n",
       "    </tr>\n",
       "    <tr>\n",
       "      <th>4</th>\n",
       "      <td>1</td>\n",
       "      <td>1</td>\n",
       "      <td>4</td>\n",
       "      <td>15</td>\n",
       "    </tr>\n",
       "  </tbody>\n",
       "</table>\n",
       "</div>"
      ],
      "text/plain": [
       "   Kyphosis  Age   Number  Start\n",
       "0         1    71       3      5\n",
       "1         1   158       3     14\n",
       "2         2   128       4      5\n",
       "3         1     2       5      1\n",
       "4         1     1       4     15"
      ]
     },
     "execution_count": 18,
     "metadata": {},
     "output_type": "execute_result"
    }
   ],
   "source": [
    "Baum.head() #ersten 5 Datensätze anzeigen"
   ]
  },
  {
   "cell_type": "code",
   "execution_count": 19,
   "metadata": {},
   "outputs": [
    {
     "name": "stdout",
     "output_type": "stream",
     "text": [
      "<class 'pandas.core.frame.DataFrame'>\n",
      "RangeIndex: 13 entries, 0 to 12\n",
      "Data columns (total 4 columns):\n",
      "Kyphosis    13 non-null int64\n",
      "Age         13 non-null int64\n",
      "Number      13 non-null int64\n",
      "Start       13 non-null int64\n",
      "dtypes: int64(4)\n",
      "memory usage: 456.0 bytes\n"
     ]
    }
   ],
   "source": [
    "Baum.info()"
   ]
  },
  {
   "cell_type": "markdown",
   "metadata": {
    "collapsed": true
   },
   "source": [
    "##### Train Test Split\n",
    "Wir teilen die Daten in einen Trainings- und Testdatensatz auf."
   ]
  },
  {
   "cell_type": "code",
   "execution_count": 20,
   "metadata": {
    "collapsed": true
   },
   "outputs": [],
   "source": [
    "# hierfür benötigen wir: from sklearn.cross_validation import train_test_split  "
   ]
  },
  {
   "cell_type": "code",
   "execution_count": 21,
   "metadata": {
    "collapsed": true
   },
   "outputs": [],
   "source": [
    "X = Baum.drop('Kyphosis',axis=1)\n",
    "y = Baum['Kyphosis']\n"
   ]
  },
  {
   "cell_type": "code",
   "execution_count": 22,
   "metadata": {
    "collapsed": true
   },
   "outputs": [],
   "source": [
    "X_train, X_test, y_train, y_test = train_test_split(X, y, test_size=0.3)"
   ]
  },
  {
   "cell_type": "markdown",
   "metadata": {},
   "source": [
    "##### Entscheidungsbaum"
   ]
  },
  {
   "cell_type": "code",
   "execution_count": 23,
   "metadata": {
    "collapsed": true
   },
   "outputs": [],
   "source": [
    "#wir benötigen nun: from sklearn.tree import DecisionTreeClassifier"
   ]
  },
  {
   "cell_type": "code",
   "execution_count": 24,
   "metadata": {
    "collapsed": true
   },
   "outputs": [],
   "source": [
    "dtree = DecisionTreeClassifier()"
   ]
  },
  {
   "cell_type": "code",
   "execution_count": 25,
   "metadata": {},
   "outputs": [
    {
     "data": {
      "text/plain": [
       "DecisionTreeClassifier(class_weight=None, criterion='gini', max_depth=None,\n",
       "            max_features=None, max_leaf_nodes=None,\n",
       "            min_impurity_decrease=0.0, min_impurity_split=None,\n",
       "            min_samples_leaf=1, min_samples_split=2,\n",
       "            min_weight_fraction_leaf=0.0, presort=False, random_state=None,\n",
       "            splitter='best')"
      ]
     },
     "execution_count": 25,
     "metadata": {},
     "output_type": "execute_result"
    }
   ],
   "source": [
    "dtree.fit(X_train,y_train)"
   ]
  },
  {
   "cell_type": "markdown",
   "metadata": {},
   "source": [
    "##### Predicition und Auswertung"
   ]
  },
  {
   "cell_type": "code",
   "execution_count": 26,
   "metadata": {},
   "outputs": [
    {
     "name": "stdout",
     "output_type": "stream",
     "text": [
      "[[3 0]\n",
      " [0 1]]\n",
      "\n",
      "\n",
      "             precision    recall  f1-score   support\n",
      "\n",
      "          1       1.00      1.00      1.00         3\n",
      "          2       1.00      1.00      1.00         1\n",
      "\n",
      "avg / total       1.00      1.00      1.00         4\n",
      "\n"
     ]
    }
   ],
   "source": [
    "predictions = dtree.predict(X_test)\n",
    "from sklearn.metrics import classification_report, confusion_matrix\n",
    "\n",
    "print(confusion_matrix(y_test,predictions))\n",
    "print('\\n')\n",
    "print(classification_report(y_test,predictions))"
   ]
  },
  {
   "cell_type": "code",
   "execution_count": 38,
   "metadata": {
    "collapsed": true
   },
   "outputs": [],
   "source": [
    "#Veranschaulichung Baum\n",
    "\n",
    "from IPython.display import Image\n",
    "from sklearn.externals.six import StringIO\n",
    "from sklearn.tree import export_graphviz \n",
    "import pydot  "
   ]
  },
  {
   "cell_type": "markdown",
   "metadata": {},
   "source": [
    "$Installation:$\n",
    "\n",
    "1. graphviz installieren\n",
    "\n",
    "Man muss 'graphviz' auf [folgender Seite](https://graphviz.gitlab.io/_pages/Download/Download_windows.html) herunterladen, dass der Quellcode ausgeführt wird. \n",
    "\n",
    "2. pydot installieren \n",
    "\n",
    "Hierfür geht man unter 'Programme - Anaconda3 - Anaconda Prompt'. Hier gibt man 'pip install pydot' ein\n"
   ]
  },
  {
   "cell_type": "code",
   "execution_count": 39,
   "metadata": {},
   "outputs": [
    {
     "data": {
      "text/plain": [
       "['Age ', 'Number', 'Start']"
      ]
     },
     "execution_count": 39,
     "metadata": {},
     "output_type": "execute_result"
    }
   ],
   "source": [
    "features = list(Baum.columns[1:])#gibt die 1. Zeile aus\n",
    "features"
   ]
  },
  {
   "cell_type": "code",
   "execution_count": 43,
   "metadata": {},
   "outputs": [
    {
     "data": {
      "image/png": "[encoded data removed]",
      "text/plain": [
       "<IPython.core.display.Image object>"
      ]
     },
     "execution_count": 43,
     "metadata": {},
     "output_type": "execute_result"
    }
   ],
   "source": [
    "dot_data = StringIO()\n",
    "export_graphviz(dtree, out_file=dot_data, feature_names=features, filled=True )\n",
    "\n",
    "graph = pydot.graph_from_dot_data(dot_data.getvalue())\n",
    "Image(graph[0].create_png()) #zeichnet Baum"
   ]
  },
  {
   "cell_type": "code",
   "execution_count": 42,
   "metadata": {},
   "outputs": [
    {
     "data": {
      "image/png": "[encoded data removed]",
      "text/plain": [
       "<IPython.core.display.Image object>"
      ]
     },
     "execution_count": 42,
     "metadata": {},
     "output_type": "execute_result"
    }
   ],
   "source": [
    "dot_data = StringIO()\n",
    "export_graphviz(dtree, out_file=dot_data, feature_names=features, filled=False )\n",
    "\n",
    "graph = pydot.graph_from_dot_data(dot_data.getvalue())\n",
    "Image(graph[0].create_png()) # Entscheidungsbaum wird gezeichnet"
   ]
  },
  {
   "cell_type": "markdown",
   "metadata": {},
   "source": [
    "\n",
    "\n",
    " \n",
    " [Export_graphviz:](http://scikit-learn.org/0.16/modules/generated/sklearn.tree.export_graphviz.html)"
   ]
  },
  {
   "cell_type": "markdown",
   "metadata": {},
   "source": [
    "\n"
   ]
  },
  {
   "cell_type": "markdown",
   "metadata": {},
   "source": [
    "### Beispiel 2:\n",
    "Datensatz Bestellung"
   ]
  },
  {
   "cell_type": "markdown",
   "metadata": {},
   "source": [
    "\n",
    "\n",
    "Wir lesen als erstes den Datensatz 'Bestellung' ein. Hierfür importieren wir wieder zuerst die Bibliotheken, welche wir benötigen. "
   ]
  },
  {
   "cell_type": "code",
   "execution_count": 4,
   "metadata": {
    "collapsed": true
   },
   "outputs": [],
   "source": [
    "import numpy as np\n",
    "import pandas as pd\n",
    "from sklearn.model_selection import train_test_split\n",
    "#from sklearn.cross_validation import train_test_split\n",
    "from sklearn.tree import DecisionTreeClassifier\n",
    "from sklearn.metrics import accuracy_score\n",
    "from sklearn import tree\n"
   ]
  },
  {
   "cell_type": "markdown",
   "metadata": {},
   "source": [
    "Wir lesen unseren Datensatz 'Bestellung' ein. Mit 'index_col = ' können Sie einen Index festlegen, indem Sie es hinter 'data/Bestellung.csv' anhängen."
   ]
  },
  {
   "cell_type": "code",
   "execution_count": 5,
   "metadata": {},
   "outputs": [
    {
     "data": {
      "text/html": [
       "<div>\n",
       "<style>\n",
       "    .dataframe thead tr:only-child th {\n",
       "        text-align: right;\n",
       "    }\n",
       "\n",
       "    .dataframe thead th {\n",
       "        text-align: left;\n",
       "    }\n",
       "\n",
       "    .dataframe tbody tr th {\n",
       "        vertical-align: top;\n",
       "    }\n",
       "</style>\n",
       "<table border=\"1\" class=\"dataframe\">\n",
       "  <thead>\n",
       "    <tr style=\"text-align: right;\">\n",
       "      <th></th>\n",
       "      <th>Fall</th>\n",
       "      <th>Verspaetung</th>\n",
       "      <th>Kunde</th>\n",
       "      <th>Posten</th>\n",
       "      <th>Ruecksendung</th>\n",
       "      <th>Neubestellung</th>\n",
       "    </tr>\n",
       "  </thead>\n",
       "  <tbody>\n",
       "    <tr>\n",
       "      <th>0</th>\n",
       "      <td>1</td>\n",
       "      <td>lang</td>\n",
       "      <td>M</td>\n",
       "      <td>einzel</td>\n",
       "      <td>nein</td>\n",
       "      <td>nein</td>\n",
       "    </tr>\n",
       "    <tr>\n",
       "      <th>1</th>\n",
       "      <td>2</td>\n",
       "      <td>lang</td>\n",
       "      <td>M</td>\n",
       "      <td>einzel</td>\n",
       "      <td>nein</td>\n",
       "      <td>nein</td>\n",
       "    </tr>\n",
       "    <tr>\n",
       "      <th>2</th>\n",
       "      <td>3</td>\n",
       "      <td>keine</td>\n",
       "      <td>M</td>\n",
       "      <td>einzel</td>\n",
       "      <td>ja</td>\n",
       "      <td>nein</td>\n",
       "    </tr>\n",
       "    <tr>\n",
       "      <th>3</th>\n",
       "      <td>4</td>\n",
       "      <td>kurz</td>\n",
       "      <td>F</td>\n",
       "      <td>einzel</td>\n",
       "      <td>nein</td>\n",
       "      <td>ja</td>\n",
       "    </tr>\n",
       "    <tr>\n",
       "      <th>4</th>\n",
       "      <td>5</td>\n",
       "      <td>kurz</td>\n",
       "      <td>U</td>\n",
       "      <td>mehrere</td>\n",
       "      <td>nein</td>\n",
       "      <td>ja</td>\n",
       "    </tr>\n",
       "    <tr>\n",
       "      <th>5</th>\n",
       "      <td>6</td>\n",
       "      <td>kurz</td>\n",
       "      <td>U</td>\n",
       "      <td>mehrere</td>\n",
       "      <td>ja</td>\n",
       "      <td>nein</td>\n",
       "    </tr>\n",
       "    <tr>\n",
       "      <th>6</th>\n",
       "      <td>7</td>\n",
       "      <td>keine</td>\n",
       "      <td>U</td>\n",
       "      <td>mehrere</td>\n",
       "      <td>ja</td>\n",
       "      <td>ja</td>\n",
       "    </tr>\n",
       "    <tr>\n",
       "      <th>7</th>\n",
       "      <td>8</td>\n",
       "      <td>lang</td>\n",
       "      <td>F</td>\n",
       "      <td>einzel</td>\n",
       "      <td>nein</td>\n",
       "      <td>nein</td>\n",
       "    </tr>\n",
       "    <tr>\n",
       "      <th>8</th>\n",
       "      <td>9</td>\n",
       "      <td>lang</td>\n",
       "      <td>F</td>\n",
       "      <td>mehrere</td>\n",
       "      <td>ja</td>\n",
       "      <td>ja</td>\n",
       "    </tr>\n",
       "    <tr>\n",
       "      <th>9</th>\n",
       "      <td>10</td>\n",
       "      <td>kurz</td>\n",
       "      <td>F</td>\n",
       "      <td>mehrere</td>\n",
       "      <td>nein</td>\n",
       "      <td>ja</td>\n",
       "    </tr>\n",
       "    <tr>\n",
       "      <th>10</th>\n",
       "      <td>11</td>\n",
       "      <td>lang</td>\n",
       "      <td>F</td>\n",
       "      <td>mehrere</td>\n",
       "      <td>ja</td>\n",
       "      <td>ja</td>\n",
       "    </tr>\n",
       "    <tr>\n",
       "      <th>11</th>\n",
       "      <td>12</td>\n",
       "      <td>keine</td>\n",
       "      <td>F</td>\n",
       "      <td>einzel</td>\n",
       "      <td>ja</td>\n",
       "      <td>ja</td>\n",
       "    </tr>\n",
       "    <tr>\n",
       "      <th>12</th>\n",
       "      <td>13</td>\n",
       "      <td>keine</td>\n",
       "      <td>M</td>\n",
       "      <td>mehrere</td>\n",
       "      <td>nein</td>\n",
       "      <td>ja</td>\n",
       "    </tr>\n",
       "    <tr>\n",
       "      <th>13</th>\n",
       "      <td>14</td>\n",
       "      <td>kurz</td>\n",
       "      <td>F</td>\n",
       "      <td>einzel</td>\n",
       "      <td>ja</td>\n",
       "      <td>nein</td>\n",
       "    </tr>\n",
       "  </tbody>\n",
       "</table>\n",
       "</div>"
      ],
      "text/plain": [
       "    Fall Verspaetung Kunde   Posten Ruecksendung Neubestellung\n",
       "0      1        lang     M   einzel         nein          nein\n",
       "1      2        lang     M   einzel         nein          nein\n",
       "2      3       keine     M   einzel           ja          nein\n",
       "3      4        kurz     F   einzel         nein            ja\n",
       "4      5        kurz     U  mehrere         nein            ja\n",
       "5      6        kurz     U  mehrere           ja          nein\n",
       "6      7       keine     U  mehrere           ja            ja\n",
       "7      8        lang     F   einzel         nein          nein\n",
       "8      9        lang     F  mehrere           ja            ja\n",
       "9     10        kurz     F  mehrere         nein            ja\n",
       "10    11        lang     F  mehrere           ja            ja\n",
       "11    12       keine     F   einzel           ja            ja\n",
       "12    13       keine     M  mehrere         nein            ja\n",
       "13    14        kurz     F   einzel           ja          nein"
      ]
     },
     "execution_count": 5,
     "metadata": {},
     "output_type": "execute_result"
    }
   ],
   "source": [
    "df = pd.read_csv('data/Bestellung.csv')\n",
    "df"
   ]
  },
  {
   "cell_type": "markdown",
   "metadata": {},
   "source": [
    "Nun lassen wir uns die ersten 5 Zeilen des Datensatzes anzeigen."
   ]
  },
  {
   "cell_type": "code",
   "execution_count": 6,
   "metadata": {},
   "outputs": [
    {
     "name": "stdout",
     "output_type": "stream",
     "text": [
      "   Fall Verspaetung Kunde   Posten Ruecksendung Neubestellung\n",
      "0     1        lang     M   einzel         nein          nein\n",
      "1     2        lang     M   einzel         nein          nein\n",
      "2     3       keine     M   einzel           ja          nein\n",
      "3     4        kurz     F   einzel         nein            ja\n",
      "4     5        kurz     U  mehrere         nein            ja\n"
     ]
    }
   ],
   "source": [
    "print(df.head())"
   ]
  },
  {
   "cell_type": "markdown",
   "metadata": {},
   "source": [
    "Wir schauen uns wesentlichen Informationen unseres Dataframes an."
   ]
  },
  {
   "cell_type": "code",
   "execution_count": 7,
   "metadata": {},
   "outputs": [
    {
     "name": "stdout",
     "output_type": "stream",
     "text": [
      "<class 'pandas.core.frame.DataFrame'>\n",
      "RangeIndex: 14 entries, 0 to 13\n",
      "Data columns (total 6 columns):\n",
      "Fall             14 non-null int64\n",
      "Verspaetung      14 non-null object\n",
      "Kunde            14 non-null object\n",
      "Posten           14 non-null object\n",
      "Ruecksendung     14 non-null object\n",
      "Neubestellung    14 non-null object\n",
      "dtypes: int64(1), object(5)\n",
      "memory usage: 432.0+ bytes\n"
     ]
    }
   ],
   "source": [
    "df.info()"
   ]
  },
  {
   "cell_type": "markdown",
   "metadata": {},
   "source": [
    "Da die Werte in Verspaetung, Kunde, Posten, Ruecksendung, Neubestellung nicht vom Typ 'integer' sind, müssen wir diese in 'integer' Werte konvertieren.\n",
    "\n",
    "$Verspaetung:$\n",
    "\n",
    "    keine: 0\n",
    "    kurz: 1\n",
    "    lang: 2\n",
    "\n",
    "$Kunde:$\n",
    "\n",
    "    M: 0\n",
    "    F: 1\n",
    "    U: 2\n",
    "\n",
    "$Posten:$\n",
    "\n",
    "    einzel: 0\n",
    "    mehrere: 1\n",
    "\n",
    "$Ruecksendung:$\n",
    "\n",
    "    nein: 0\n",
    "    ja: 1\n",
    "\n",
    "$Neubestellung:$\n",
    "\n",
    "    nein: 0\n",
    "    ja: 1"
   ]
  },
  {
   "cell_type": "code",
   "execution_count": 8,
   "metadata": {
    "collapsed": true
   },
   "outputs": [],
   "source": [
    "df = df[['Fall', 'Verspaetung', 'Kunde', 'Posten', 'Ruecksendung', 'Neubestellung']]"
   ]
  },
  {
   "cell_type": "code",
   "execution_count": 9,
   "metadata": {
    "collapsed": true
   },
   "outputs": [],
   "source": [
    "df['Verspaetung'] = df['Verspaetung'].map({'keine': 0, 'kurz': 1, 'lang': 2 })"
   ]
  },
  {
   "cell_type": "code",
   "execution_count": 10,
   "metadata": {
    "collapsed": true
   },
   "outputs": [],
   "source": [
    "df['Kunde'] = df['Kunde'].map({'M': 0, 'F': 1, 'U': 2 })"
   ]
  },
  {
   "cell_type": "code",
   "execution_count": 11,
   "metadata": {
    "collapsed": true
   },
   "outputs": [],
   "source": [
    "df['Posten'] = df['Posten'].map({'einzel': 0, 'mehrere': 1})"
   ]
  },
  {
   "cell_type": "code",
   "execution_count": 12,
   "metadata": {
    "collapsed": true
   },
   "outputs": [],
   "source": [
    "df['Ruecksendung'] = df['Ruecksendung'].map({'nein': 0, 'ja': 1})"
   ]
  },
  {
   "cell_type": "code",
   "execution_count": 13,
   "metadata": {
    "collapsed": true
   },
   "outputs": [],
   "source": [
    "df['Neubestellung'] = df['Neubestellung'].map({'nein': 0, 'ja': 1})"
   ]
  },
  {
   "cell_type": "markdown",
   "metadata": {},
   "source": [
    "Im Folgenden lassen wir die fehlenden Werte wegfallen."
   ]
  },
  {
   "cell_type": "code",
   "execution_count": 14,
   "metadata": {
    "collapsed": true
   },
   "outputs": [],
   "source": [
    "df = df.dropna() #drop missing values "
   ]
  },
  {
   "cell_type": "code",
   "execution_count": 15,
   "metadata": {
    "collapsed": true
   },
   "outputs": [],
   "source": [
    "X = df.drop('Fall',axis=1)\n",
    "y = df['Fall']"
   ]
  },
  {
   "cell_type": "markdown",
   "metadata": {},
   "source": [
    "\n",
    "Wir teilen die Daten auf, in einen Trainings- und einen Testdatensatz."
   ]
  },
  {
   "cell_type": "code",
   "execution_count": 16,
   "metadata": {
    "collapsed": true
   },
   "outputs": [],
   "source": [
    "# hierfür benötigen wir die oben importierte Bibliothek: from sklearn.model_selection import train_test_split\n",
    "\n",
    "X_train, X_test, y_train, y_test = train_test_split(X, y, random_state=1)"
   ]
  },
  {
   "cell_type": "code",
   "execution_count": 17,
   "metadata": {
    "collapsed": true
   },
   "outputs": [],
   "source": [
    "# hierfür benötigen wir die oben importierte Bibliothek: from sklearn import tree\n",
    "\n",
    "model = tree.DecisionTreeClassifier()"
   ]
  },
  {
   "cell_type": "markdown",
   "metadata": {},
   "source": [
    "Nun schauen wir uns die Model Attribute an."
   ]
  },
  {
   "cell_type": "code",
   "execution_count": 18,
   "metadata": {},
   "outputs": [
    {
     "name": "stdout",
     "output_type": "stream",
     "text": [
      "DecisionTreeClassifier(class_weight=None, criterion='gini', max_depth=None,\n",
      "            max_features=None, max_leaf_nodes=None,\n",
      "            min_impurity_decrease=0.0, min_impurity_split=None,\n",
      "            min_samples_leaf=1, min_samples_split=2,\n",
      "            min_weight_fraction_leaf=0.0, presort=False, random_state=None,\n",
      "            splitter='best')\n"
     ]
    }
   ],
   "source": [
    "print(model)"
   ]
  },
  {
   "cell_type": "markdown",
   "metadata": {},
   "source": [
    "Festlegen einiger Attribute wie max_depth, max_leaf_nodes, min_impurity_split und min_samples_leaf \n",
    "können uns helfen das Model vor Überanpassung der Traningsdaten schützen.\n",
    "Zuerst passen wir unser Model an, indem wir die Testdaten benutzen."
   ]
  },
  {
   "cell_type": "code",
   "execution_count": 19,
   "metadata": {},
   "outputs": [
    {
     "data": {
      "text/plain": [
       "DecisionTreeClassifier(class_weight=None, criterion='gini', max_depth=None,\n",
       "            max_features=None, max_leaf_nodes=None,\n",
       "            min_impurity_decrease=0.0, min_impurity_split=None,\n",
       "            min_samples_leaf=1, min_samples_split=2,\n",
       "            min_weight_fraction_leaf=0.0, presort=False, random_state=None,\n",
       "            splitter='best')"
      ]
     },
     "execution_count": 19,
     "metadata": {},
     "output_type": "execute_result"
    }
   ],
   "source": [
    "model.fit(X_train, y_train)"
   ]
  },
  {
   "cell_type": "markdown",
   "metadata": {},
   "source": [
    "Dann erzielen wir die vorhergesagte Datenausgabe unseres Testdatensatzes gegen unseren wirklichen Testdatensatz.\n",
    "\n"
   ]
  },
  {
   "cell_type": "code",
   "execution_count": 20,
   "metadata": {},
   "outputs": [
    {
     "data": {
      "text/plain": [
       "0.0"
      ]
     },
     "execution_count": 20,
     "metadata": {},
     "output_type": "execute_result"
    }
   ],
   "source": [
    "y_predict = model.predict(X_test)\n",
    "\n",
    "# hier benötigen wir die oben eingelesene Bibliothek: from sklearn.metrics import accuracy_score\n",
    "\n",
    "accuracy_score(y_test, y_predict)"
   ]
  },
  {
   "cell_type": "markdown",
   "metadata": {},
   "source": [
    "Wir weisen 'feautures' die erste Spalte zu und geben diese aus."
   ]
  },
  {
   "cell_type": "code",
   "execution_count": 21,
   "metadata": {},
   "outputs": [
    {
     "data": {
      "text/plain": [
       "['Verspaetung', 'Kunde', 'Posten', 'Ruecksendung', 'Neubestellung']"
      ]
     },
     "execution_count": 21,
     "metadata": {},
     "output_type": "execute_result"
    }
   ],
   "source": [
    "features = list(df.columns[1:])\n",
    "features"
   ]
  },
  {
   "cell_type": "code",
   "execution_count": 22,
   "metadata": {
    "collapsed": true
   },
   "outputs": [],
   "source": [
    "tree.export_graphviz(model, out_file='tree.dot', feature_names=features, max_depth=None)"
   ]
  },
  {
   "cell_type": "code",
   "execution_count": 23,
   "metadata": {},
   "outputs": [
    {
     "data": {
      "text/plain": [
       "0"
      ]
     },
     "execution_count": 23,
     "metadata": {},
     "output_type": "execute_result"
    }
   ],
   "source": [
    "from subprocess import call\n",
    "\n",
    "call(['dot', '-T', 'png', 'tree.dot', '-o', 'img/Baum.png'])"
   ]
  },
  {
   "cell_type": "markdown",
   "metadata": {},
   "source": [
    "Der Entscheidungsbaum wird als png-Datei in dem angelegten Ordner img, erstellt. Würden wir keinen Pfad angeben, so würden wir die Datei in dem Ordner erstellen lassen, in welchem unser Jupyter Notebook gespeichert ist.\n",
    "Im Folgenden lesen wir den Entscheidungsbaum ein. "
   ]
  },
  {
   "cell_type": "code",
   "execution_count": 24,
   "metadata": {
    "scrolled": false
   },
   "outputs": [
    {
     "data": {
      "image/png": "[encoded data removed]",
      "text/plain": [
       "<IPython.core.display.Image object>"
      ]
     },
     "execution_count": 24,
     "metadata": {},
     "output_type": "execute_result"
    }
   ],
   "source": [
    "from IPython.display import Image\n",
    "Image(\"img/Baum.png\")"
   ]
  },
  {
   "cell_type": "markdown",
   "metadata": {},
   "source": [
    "Die Knoten zur linken Seite sind 'True', und die Knoten zur rechten Seite sind 'False'."
   ]
  },
  {
   "cell_type": "markdown",
   "metadata": {},
   "source": [
    "### Beispiel 4:\n",
    "\n",
    "Der Datensatz [Iris](https://en.wikipedia.org/wiki/Iris_flower_data_set) ist in Python vorhanden.  "
   ]
  },
  {
   "cell_type": "code",
   "execution_count": 69,
   "metadata": {
    "collapsed": true
   },
   "outputs": [],
   "source": [
    "\n",
    "#https://medium.com/@rnbrown/creating-and-visualizing-decision-trees-with-python-f8e8fa394176\n",
    "import sklearn.datasets as datasets\n",
    "import pandas as pd\n",
    "iris=datasets.load_iris()\n",
    "df=pd.DataFrame(iris.data, columns=iris.feature_names)\n",
    "y=iris.target"
   ]
  },
  {
   "cell_type": "code",
   "execution_count": 70,
   "metadata": {},
   "outputs": [
    {
     "data": {
      "text/plain": [
       "DecisionTreeClassifier(class_weight=None, criterion='gini', max_depth=None,\n",
       "            max_features=None, max_leaf_nodes=None,\n",
       "            min_impurity_decrease=0.0, min_impurity_split=None,\n",
       "            min_samples_leaf=1, min_samples_split=2,\n",
       "            min_weight_fraction_leaf=0.0, presort=False, random_state=None,\n",
       "            splitter='best')"
      ]
     },
     "execution_count": 70,
     "metadata": {},
     "output_type": "execute_result"
    }
   ],
   "source": [
    "from sklearn.tree import DecisionTreeClassifier\n",
    "dtree=DecisionTreeClassifier()\n",
    "dtree.fit(df,y)"
   ]
  },
  {
   "cell_type": "code",
   "execution_count": 75,
   "metadata": {
    "collapsed": true
   },
   "outputs": [],
   "source": [
    "from sklearn.externals.six import StringIO  \n",
    "from IPython.display import Image  \n",
    "from sklearn.tree import export_graphviz\n",
    "import pydotplus"
   ]
  },
  {
   "cell_type": "code",
   "execution_count": 76,
   "metadata": {},
   "outputs": [
    {
     "data": {
      "image/png": "[encoded data removed]",
      "text/plain": [
       "<IPython.core.display.Image object>"
      ]
     },
     "execution_count": 76,
     "metadata": {},
     "output_type": "execute_result"
    }
   ],
   "source": [
    "dot_data = StringIO()\n",
    "\n",
    "export_graphviz(dtree, out_file=dot_data,  \n",
    "                filled=False, rounded=True,\n",
    "                special_characters=True)\n",
    "\n",
    "graph = pydotplus.graph_from_dot_data(dot_data.getvalue())  \n",
    "Image(graph.create_png())"
   ]
  },
  {
   "cell_type": "markdown",
   "metadata": {
    "collapsed": true
   },
   "source": [
    "# Literatur"
   ]
  },
  {
   "cell_type": "markdown",
   "metadata": {
    "collapsed": true
   },
   "source": [
    "### Bücher:\n",
    "\n",
    "- Witten & Frank: Data Mining: Practical Machine Learning Tools and Techniques, 2015\n",
    "- Subramanian: Data Science Cookbook, 2005\n",
    "- Raschka, Sebastian: Python Maschine Learning, 2015\n",
    "- Williams, Graham: Data Mining with Rattle and R, 2011\n",
    "- Data Science for Dummies\n",
    "\n",
    "### Links:\n",
    "- http://www.ke.tu-darmstadt.de/lehre/archiv/ws0405/mldm/dt.pdf\n",
    "\n",
    "- https://www.tu-chemnitz.de/informatik/KI/scripts/ss05/DM1-stud-05.pdf\n",
    "\n",
    "- https://dbs.uni-leipzig.de/file/dw-kap6.pdf\n",
    "\n",
    "- http://www.informatik.uni-ulm.de/ni/Lehre/SS00/DataMining/talk1.pdf\n",
    "\n",
    "- http://mars.wiwi.hu-berlin.de/www-data/dat-ss12/SeminararbeitEntscheidungsbaeume.pdf\n",
    "\n",
    "- https://help.sap.com/doc/saphelp_ewm900/9.0/de-DE/72/e5293b5fdebb1ce10000000a114084/frameset.htm\n",
    "\n",
    "- https://entwickler.de/online/datenbanken/data-mining-typische-verfahren-und-praxisbeispiele-115010.html\n",
    "\n",
    "- http://wirtschaftslexikon.gabler.de/Definition/entscheidungsbaum.html\n",
    "\n",
    "- http://www.wirtschaftslexikon24.com/d/entscheidungsbaum/entscheidungsbaum.htm\n",
    "\n",
    "- https://technet.microsoft.com/de-de/library/ms175312(v=sql.105).aspx\n",
    "\n",
    "- http://www.4managers.de/management/themen/data-mining/\n",
    "\n",
    "- https://www.in.th-nuernberg.de/professors/Holl/Personal/DataMining_Bachelor.pdf\n",
    "\n",
    "- http://www.informatik.tu-freiberg.de/lehre/pflicht/EinInf/ws07/Informatik07.pdf\n",
    "\n",
    "- http://scikit-learn.org/stable/modules/tree.html\n",
    "\n",
    "- https://www.cs.uni-potsdam.de/ml/teaching/ws13/ml/Entscheidungsbaeume1.pdf\n",
    "\n",
    "- http://www.faes.de/Basis/Basis-Lexikon/Basis-Lexikon-Regressionsbaum/basis-lexikon-regressionsbaum.html#Seitenanfang\n",
    "\n",
    "- https://de.wikipedia.org/wiki/Klassifizierung\n",
    "\n",
    "- https://userpages.uni-koblenz.de/~staab/lehre/ws0506/db1/Kapitel19datamining4.pdf\n",
    "\n",
    "- http://www.grin.com/de/e-book/111117/ansaetze-zur-konstruktion-von-entscheidungsbaeumen\n",
    "\n",
    "- http://benalexkeen.com/decision-tree-classifier-in-python-using-scikit-learn/\n",
    "\n"
   ]
  }
 ],
 "metadata": {
  "kernelspec": {
   "display_name": "Python 3",
   "language": "python",
   "name": "python3"
  },
  "language_info": {
   "codemirror_mode": {
    "name": "ipython",
    "version": 3
   },
   "file_extension": ".py",
   "mimetype": "text/x-python",
   "name": "python",
   "nbconvert_exporter": "python",
   "pygments_lexer": "ipython3",
   "version": "3.6.2"
  }
 },
 "nbformat": 4,
 "nbformat_minor": 2
}
